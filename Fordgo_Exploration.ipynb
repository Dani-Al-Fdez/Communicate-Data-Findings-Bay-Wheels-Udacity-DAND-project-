{
 "cells": [
  {
   "cell_type": "markdown",
   "metadata": {},
   "source": [
    "# Bay Wheels 2019 Exploration  — Communicate Data Findings Project\n",
    "## by Juan Daniel Alonso \n",
    "\n",
    "### Table of contents:\n",
    "\n",
    "<ul>\n",
    "<li><a href=\"#wrangling\">Preliminary Wrangling</a></li>\n",
    "<li><a href=\"#univariate\">Univariate Exploration</a></li>\n",
    "<li><a href=\"#bivariate\">Bivariate Exploration</a></li>\n",
    "<li><a href=\"#polivariate\">Multivariate Exploration</a></li>\n",
    "</ul>\n",
    "\n",
    "\n"
   ]
  },
  {
   "cell_type": "markdown",
   "metadata": {},
   "source": [
    "<a id='wrangling'></a>\n",
    "\n",
    "## Preliminary Wrangling\n",
    "\n",
    "> Bay Wheels (formerly Ford Go) is a bike sharing service operated by Lyft in the San Francisco Bay, at the time this project was written, there were stations in San Francisco, San José and in the East Bay (Berkeley, Oakland, Emeryville). In this project we will be working with Bay Wheels' 2019 data which we accesed [here]( https://www.lyft.com/bikes/bay-wheels/system-data)\n",
    "\n",
    "\n",
    "This first section is divided into three subsections: \n",
    "\n",
    "\n",
    "<ul>\n",
    "<li><a href=\"#gathering\">Gathering</a></li>\n",
    "<li><a href=\"#assessing\">Assessing</a></li>\n",
    "<li><a href=\"#cleaning\">Cleaning</a></li>\n",
    "\n",
    "</ul>\n",
    "\n"
   ]
  },
  {
   "cell_type": "code",
   "execution_count": 1,
   "metadata": {},
   "outputs": [],
   "source": [
    "# import all packages and set plots to be embedded inline\n",
    "import numpy as np\n",
    "import pandas as pd\n",
    "import matplotlib.pyplot as plt\n",
    "import seaborn as sb\n",
    "import glob\n",
    "import os\n",
    "\n",
    "%matplotlib inline"
   ]
  },
  {
   "cell_type": "markdown",
   "metadata": {},
   "source": [
    "<a id='gathering'></a>\n",
    "### Gathering\n",
    "\n",
    "We have manually downloaded 2019's 12 CSVs into our computer from [here](https://s3.amazonaws.com/baywheels-data/index.html) and now we want to merge them and convert them to a DataFrame."
   ]
  },
  {
   "cell_type": "code",
   "execution_count": 2,
   "metadata": {},
   "outputs": [
    {
     "data": {
      "text/plain": [
       "['.ipynb_checkpoints',\n",
       " '201901-fordgobike-tripdata.csv',\n",
       " '201902-fordgobike-tripdata.csv',\n",
       " '201903-fordgobike-tripdata.csv',\n",
       " '201904-fordgobike-tripdata.csv',\n",
       " '201905-baywheels-tripdata.csv',\n",
       " '201906-baywheels-tripdata.csv',\n",
       " '201907-baywheels-tripdata.csv',\n",
       " '201908-baywheels-tripdata.csv',\n",
       " '201909-baywheels-tripdata.csv',\n",
       " '201910-baywheels-tripdata.csv',\n",
       " '201911-baywheels-tripdata.csv',\n",
       " '201912-baywheels-tripdata.csv',\n",
       " 'Fordgo_exploration.csv',\n",
       " 'Fordgo_Exploration.html',\n",
       " 'Fordgo_Exploration.ipynb',\n",
       " 'output_toggle.tpl',\n",
       " 'readme.md',\n",
       " 'slide_deck_Juan_Daniel_Alonso.ipynb',\n",
       " 'slide_deck_Juan_Daniel_Alonso.slides.html']"
      ]
     },
     "execution_count": 2,
     "metadata": {},
     "output_type": "execute_result"
    }
   ],
   "source": [
    "# List the csv archives\n",
    "\n",
    "os.listdir()"
   ]
  },
  {
   "cell_type": "code",
   "execution_count": 3,
   "metadata": {
    "scrolled": false
   },
   "outputs": [
    {
     "name": "stderr",
     "output_type": "stream",
     "text": [
      "C:\\Users\\judaf\\Anaconda3\\lib\\site-packages\\ipykernel_launcher.py:15: FutureWarning: Sorting because non-concatenation axis is not aligned. A future version\n",
      "of pandas will change to not sort by default.\n",
      "\n",
      "To accept the future behavior, pass 'sort=False'.\n",
      "\n",
      "To retain the current behavior and silence the warning, pass 'sort=True'.\n",
      "\n",
      "  from ipykernel import kernelapp as app\n"
     ]
    }
   ],
   "source": [
    "# Read monthly CSVs into DataFrame an concatenate them into a yearly Dataframe\n",
    "\n",
    "pattern = '*tripdata.csv'\n",
    "\n",
    "csvs = glob.glob(pattern)\n",
    "\n",
    "\n",
    "frames = []\n",
    "\n",
    "for file in csvs:\n",
    "    df = pd.read_csv(file, low_memory=False)\n",
    "    frames.append(df)\n",
    "    \n",
    "\n",
    "fordgo = pd.concat(frames, ignore_index=True)"
   ]
  },
  {
   "cell_type": "markdown",
   "metadata": {},
   "source": [
    "<a id='assesing'></a>\n",
    "\n",
    "### Assessing\n",
    "\n",
    "The dataset collected is big (more than 2.5 millon observations) and we want to familiarize ourselves with its structure and content before start working with it."
   ]
  },
  {
   "cell_type": "code",
   "execution_count": 4,
   "metadata": {},
   "outputs": [
    {
     "data": {
      "text/html": [
       "<div>\n",
       "<style scoped>\n",
       "    .dataframe tbody tr th:only-of-type {\n",
       "        vertical-align: middle;\n",
       "    }\n",
       "\n",
       "    .dataframe tbody tr th {\n",
       "        vertical-align: top;\n",
       "    }\n",
       "\n",
       "    .dataframe thead th {\n",
       "        text-align: right;\n",
       "    }\n",
       "</style>\n",
       "<table border=\"1\" class=\"dataframe\">\n",
       "  <thead>\n",
       "    <tr style=\"text-align: right;\">\n",
       "      <th></th>\n",
       "      <th>bike_id</th>\n",
       "      <th>bike_share_for_all_trip</th>\n",
       "      <th>duration_sec</th>\n",
       "      <th>end_station_id</th>\n",
       "      <th>end_station_latitude</th>\n",
       "      <th>end_station_longitude</th>\n",
       "      <th>end_station_name</th>\n",
       "      <th>end_time</th>\n",
       "      <th>rental_access_method</th>\n",
       "      <th>start_station_id</th>\n",
       "      <th>start_station_latitude</th>\n",
       "      <th>start_station_longitude</th>\n",
       "      <th>start_station_name</th>\n",
       "      <th>start_time</th>\n",
       "      <th>user_type</th>\n",
       "    </tr>\n",
       "  </thead>\n",
       "  <tbody>\n",
       "    <tr>\n",
       "      <th>1934278</th>\n",
       "      <td>3271</td>\n",
       "      <td>No</td>\n",
       "      <td>326</td>\n",
       "      <td>256.0</td>\n",
       "      <td>37.875112</td>\n",
       "      <td>-122.260553</td>\n",
       "      <td>Hearst Ave at Euclid Ave</td>\n",
       "      <td>2019-10-31 17:17:59.6860</td>\n",
       "      <td>NaN</td>\n",
       "      <td>243.0</td>\n",
       "      <td>37.869360</td>\n",
       "      <td>-122.254337</td>\n",
       "      <td>Bancroft Way at College Ave</td>\n",
       "      <td>2019-10-31 17:12:32.9350</td>\n",
       "      <td>Subscriber</td>\n",
       "    </tr>\n",
       "    <tr>\n",
       "      <th>1982910</th>\n",
       "      <td>12044</td>\n",
       "      <td>No</td>\n",
       "      <td>968</td>\n",
       "      <td>115.0</td>\n",
       "      <td>37.765026</td>\n",
       "      <td>-122.398773</td>\n",
       "      <td>Jackson Playground</td>\n",
       "      <td>2019-10-24 21:34:15.9530</td>\n",
       "      <td>NaN</td>\n",
       "      <td>28.0</td>\n",
       "      <td>37.787168</td>\n",
       "      <td>-122.388098</td>\n",
       "      <td>The Embarcadero at Bryant St</td>\n",
       "      <td>2019-10-24 21:18:07.3440</td>\n",
       "      <td>Subscriber</td>\n",
       "    </tr>\n",
       "    <tr>\n",
       "      <th>718760</th>\n",
       "      <td>595</td>\n",
       "      <td>No</td>\n",
       "      <td>314</td>\n",
       "      <td>244.0</td>\n",
       "      <td>37.873676</td>\n",
       "      <td>-122.268487</td>\n",
       "      <td>Shattuck Ave at Hearst Ave</td>\n",
       "      <td>2019-04-17 12:33:31.4410</td>\n",
       "      <td>NaN</td>\n",
       "      <td>243.0</td>\n",
       "      <td>37.869360</td>\n",
       "      <td>-122.254337</td>\n",
       "      <td>Bancroft Way at College Ave</td>\n",
       "      <td>2019-04-17 12:28:16.6250</td>\n",
       "      <td>Subscriber</td>\n",
       "    </tr>\n",
       "  </tbody>\n",
       "</table>\n",
       "</div>"
      ],
      "text/plain": [
       "         bike_id bike_share_for_all_trip  duration_sec  end_station_id  \\\n",
       "1934278     3271                      No           326           256.0   \n",
       "1982910    12044                      No           968           115.0   \n",
       "718760       595                      No           314           244.0   \n",
       "\n",
       "         end_station_latitude  end_station_longitude  \\\n",
       "1934278             37.875112            -122.260553   \n",
       "1982910             37.765026            -122.398773   \n",
       "718760              37.873676            -122.268487   \n",
       "\n",
       "                   end_station_name                  end_time  \\\n",
       "1934278    Hearst Ave at Euclid Ave  2019-10-31 17:17:59.6860   \n",
       "1982910          Jackson Playground  2019-10-24 21:34:15.9530   \n",
       "718760   Shattuck Ave at Hearst Ave  2019-04-17 12:33:31.4410   \n",
       "\n",
       "        rental_access_method  start_station_id  start_station_latitude  \\\n",
       "1934278                  NaN             243.0               37.869360   \n",
       "1982910                  NaN              28.0               37.787168   \n",
       "718760                   NaN             243.0               37.869360   \n",
       "\n",
       "         start_station_longitude            start_station_name  \\\n",
       "1934278              -122.254337   Bancroft Way at College Ave   \n",
       "1982910              -122.388098  The Embarcadero at Bryant St   \n",
       "718760               -122.254337   Bancroft Way at College Ave   \n",
       "\n",
       "                       start_time   user_type  \n",
       "1934278  2019-10-31 17:12:32.9350  Subscriber  \n",
       "1982910  2019-10-24 21:18:07.3440  Subscriber  \n",
       "718760   2019-04-17 12:28:16.6250  Subscriber  "
      ]
     },
     "execution_count": 4,
     "metadata": {},
     "output_type": "execute_result"
    }
   ],
   "source": [
    "#Show 3 random rows\n",
    "\n",
    "fordgo.sample(3)"
   ]
  },
  {
   "cell_type": "code",
   "execution_count": 5,
   "metadata": {
    "scrolled": true
   },
   "outputs": [
    {
     "name": "stdout",
     "output_type": "stream",
     "text": [
      "<class 'pandas.core.frame.DataFrame'>\n",
      "RangeIndex: 2506983 entries, 0 to 2506982\n",
      "Data columns (total 15 columns):\n",
      "bike_id                    2506983 non-null int64\n",
      "bike_share_for_all_trip    2263724 non-null object\n",
      "duration_sec               2506983 non-null int64\n",
      "end_station_id             2424081 non-null float64\n",
      "end_station_latitude       2506983 non-null float64\n",
      "end_station_longitude      2506983 non-null float64\n",
      "end_station_name           2424633 non-null object\n",
      "end_time                   2506983 non-null object\n",
      "rental_access_method       120838 non-null object\n",
      "start_station_id           2426249 non-null float64\n",
      "start_station_latitude     2506983 non-null float64\n",
      "start_station_longitude    2506983 non-null float64\n",
      "start_station_name         2426850 non-null object\n",
      "start_time                 2506983 non-null object\n",
      "user_type                  2506983 non-null object\n",
      "dtypes: float64(6), int64(2), object(7)\n",
      "memory usage: 286.9+ MB\n"
     ]
    }
   ],
   "source": [
    "fordgo.info(verbose=True, null_counts=True)"
   ]
  },
  {
   "cell_type": "code",
   "execution_count": 6,
   "metadata": {},
   "outputs": [
    {
     "data": {
      "text/plain": [
       "0"
      ]
     },
     "execution_count": 6,
     "metadata": {},
     "output_type": "execute_result"
    }
   ],
   "source": [
    "# Are there duplicates?\n",
    "\n",
    "fordgo.duplicated().sum()"
   ]
  },
  {
   "cell_type": "code",
   "execution_count": 7,
   "metadata": {
    "scrolled": true
   },
   "outputs": [
    {
     "data": {
      "text/html": [
       "<div>\n",
       "<style scoped>\n",
       "    .dataframe tbody tr th:only-of-type {\n",
       "        vertical-align: middle;\n",
       "    }\n",
       "\n",
       "    .dataframe tbody tr th {\n",
       "        vertical-align: top;\n",
       "    }\n",
       "\n",
       "    .dataframe thead th {\n",
       "        text-align: right;\n",
       "    }\n",
       "</style>\n",
       "<table border=\"1\" class=\"dataframe\">\n",
       "  <thead>\n",
       "    <tr style=\"text-align: right;\">\n",
       "      <th></th>\n",
       "      <th>bike_id</th>\n",
       "      <th>duration_sec</th>\n",
       "      <th>end_station_id</th>\n",
       "      <th>end_station_latitude</th>\n",
       "      <th>end_station_longitude</th>\n",
       "      <th>start_station_id</th>\n",
       "      <th>start_station_latitude</th>\n",
       "      <th>start_station_longitude</th>\n",
       "    </tr>\n",
       "  </thead>\n",
       "  <tbody>\n",
       "    <tr>\n",
       "      <th>count</th>\n",
       "      <td>2.506983e+06</td>\n",
       "      <td>2.506983e+06</td>\n",
       "      <td>2.424081e+06</td>\n",
       "      <td>2.506983e+06</td>\n",
       "      <td>2.506983e+06</td>\n",
       "      <td>2.426249e+06</td>\n",
       "      <td>2.506983e+06</td>\n",
       "      <td>2.506983e+06</td>\n",
       "    </tr>\n",
       "    <tr>\n",
       "      <th>mean</th>\n",
       "      <td>2.789833e+04</td>\n",
       "      <td>8.076483e+02</td>\n",
       "      <td>1.427044e+02</td>\n",
       "      <td>3.776422e+01</td>\n",
       "      <td>-1.223459e+02</td>\n",
       "      <td>1.465047e+02</td>\n",
       "      <td>3.776506e+01</td>\n",
       "      <td>-1.223499e+02</td>\n",
       "    </tr>\n",
       "    <tr>\n",
       "      <th>std</th>\n",
       "      <td>1.146067e+05</td>\n",
       "      <td>1.974714e+03</td>\n",
       "      <td>1.214296e+02</td>\n",
       "      <td>2.392885e-01</td>\n",
       "      <td>7.080417e-01</td>\n",
       "      <td>1.223171e+02</td>\n",
       "      <td>1.363698e-01</td>\n",
       "      <td>3.089648e-01</td>\n",
       "    </tr>\n",
       "    <tr>\n",
       "      <th>min</th>\n",
       "      <td>4.000000e+00</td>\n",
       "      <td>6.000000e+01</td>\n",
       "      <td>3.000000e+00</td>\n",
       "      <td>0.000000e+00</td>\n",
       "      <td>-1.225143e+02</td>\n",
       "      <td>3.000000e+00</td>\n",
       "      <td>0.000000e+00</td>\n",
       "      <td>-1.225143e+02</td>\n",
       "    </tr>\n",
       "    <tr>\n",
       "      <th>25%</th>\n",
       "      <td>1.952000e+03</td>\n",
       "      <td>3.590000e+02</td>\n",
       "      <td>4.300000e+01</td>\n",
       "      <td>3.777003e+01</td>\n",
       "      <td>-1.224117e+02</td>\n",
       "      <td>4.700000e+01</td>\n",
       "      <td>3.776931e+01</td>\n",
       "      <td>-1.224130e+02</td>\n",
       "    </tr>\n",
       "    <tr>\n",
       "      <th>50%</th>\n",
       "      <td>4.420000e+03</td>\n",
       "      <td>5.710000e+02</td>\n",
       "      <td>1.010000e+02</td>\n",
       "      <td>3.778076e+01</td>\n",
       "      <td>-1.223981e+02</td>\n",
       "      <td>1.050000e+02</td>\n",
       "      <td>3.778053e+01</td>\n",
       "      <td>-1.223983e+02</td>\n",
       "    </tr>\n",
       "    <tr>\n",
       "      <th>75%</th>\n",
       "      <td>9.682000e+03</td>\n",
       "      <td>8.870000e+02</td>\n",
       "      <td>2.390000e+02</td>\n",
       "      <td>3.779587e+01</td>\n",
       "      <td>-1.222934e+02</td>\n",
       "      <td>2.430000e+02</td>\n",
       "      <td>3.779539e+01</td>\n",
       "      <td>-1.222914e+02</td>\n",
       "    </tr>\n",
       "    <tr>\n",
       "      <th>max</th>\n",
       "      <td>9.999410e+05</td>\n",
       "      <td>9.121100e+05</td>\n",
       "      <td>4.980000e+02</td>\n",
       "      <td>4.551000e+01</td>\n",
       "      <td>0.000000e+00</td>\n",
       "      <td>4.980000e+02</td>\n",
       "      <td>4.551000e+01</td>\n",
       "      <td>0.000000e+00</td>\n",
       "    </tr>\n",
       "  </tbody>\n",
       "</table>\n",
       "</div>"
      ],
      "text/plain": [
       "            bike_id  duration_sec  end_station_id  end_station_latitude  \\\n",
       "count  2.506983e+06  2.506983e+06    2.424081e+06          2.506983e+06   \n",
       "mean   2.789833e+04  8.076483e+02    1.427044e+02          3.776422e+01   \n",
       "std    1.146067e+05  1.974714e+03    1.214296e+02          2.392885e-01   \n",
       "min    4.000000e+00  6.000000e+01    3.000000e+00          0.000000e+00   \n",
       "25%    1.952000e+03  3.590000e+02    4.300000e+01          3.777003e+01   \n",
       "50%    4.420000e+03  5.710000e+02    1.010000e+02          3.778076e+01   \n",
       "75%    9.682000e+03  8.870000e+02    2.390000e+02          3.779587e+01   \n",
       "max    9.999410e+05  9.121100e+05    4.980000e+02          4.551000e+01   \n",
       "\n",
       "       end_station_longitude  start_station_id  start_station_latitude  \\\n",
       "count           2.506983e+06      2.426249e+06            2.506983e+06   \n",
       "mean           -1.223459e+02      1.465047e+02            3.776506e+01   \n",
       "std             7.080417e-01      1.223171e+02            1.363698e-01   \n",
       "min            -1.225143e+02      3.000000e+00            0.000000e+00   \n",
       "25%            -1.224117e+02      4.700000e+01            3.776931e+01   \n",
       "50%            -1.223981e+02      1.050000e+02            3.778053e+01   \n",
       "75%            -1.222934e+02      2.430000e+02            3.779539e+01   \n",
       "max             0.000000e+00      4.980000e+02            4.551000e+01   \n",
       "\n",
       "       start_station_longitude  \n",
       "count             2.506983e+06  \n",
       "mean             -1.223499e+02  \n",
       "std               3.089648e-01  \n",
       "min              -1.225143e+02  \n",
       "25%              -1.224130e+02  \n",
       "50%              -1.223983e+02  \n",
       "75%              -1.222914e+02  \n",
       "max               0.000000e+00  "
      ]
     },
     "execution_count": 7,
     "metadata": {},
     "output_type": "execute_result"
    }
   ],
   "source": [
    "# Describe numerical variables \n",
    "\n",
    "fordgo.describe()"
   ]
  },
  {
   "cell_type": "code",
   "execution_count": 8,
   "metadata": {
    "scrolled": true
   },
   "outputs": [
    {
     "data": {
      "text/plain": [
       "bike_id                    False\n",
       "bike_share_for_all_trip     True\n",
       "duration_sec               False\n",
       "end_station_id              True\n",
       "end_station_latitude       False\n",
       "end_station_longitude      False\n",
       "end_station_name            True\n",
       "end_time                   False\n",
       "rental_access_method        True\n",
       "start_station_id            True\n",
       "start_station_latitude     False\n",
       "start_station_longitude    False\n",
       "start_station_name          True\n",
       "start_time                 False\n",
       "user_type                  False\n",
       "dtype: bool"
      ]
     },
     "execution_count": 8,
     "metadata": {},
     "output_type": "execute_result"
    }
   ],
   "source": [
    "# Show columns with nulls\n",
    "fordgo.isna().any()"
   ]
  },
  {
   "cell_type": "markdown",
   "metadata": {},
   "source": [
    "#### Individual columns assessing"
   ]
  },
  {
   "cell_type": "markdown",
   "metadata": {},
   "source": [
    "**Bike_share_for_all_trip.** [Bike Share for All](https://www.lyft.com/bikes/bay-wheels/bike-share-for-all) is a Bay Wheels program designed for recipients of certain social allowances.\n",
    "\n",
    "We have seen that there are some nulls in this column and we want to investigate it."
   ]
  },
  {
   "cell_type": "code",
   "execution_count": 9,
   "metadata": {},
   "outputs": [
    {
     "data": {
      "text/plain": [
       "No     2086152\n",
       "Yes     177572\n",
       "Name: bike_share_for_all_trip, dtype: int64"
      ]
     },
     "execution_count": 9,
     "metadata": {},
     "output_type": "execute_result"
    }
   ],
   "source": [
    "# Count unique values\n",
    "\n",
    "fordgo.bike_share_for_all_trip.value_counts()"
   ]
  },
  {
   "cell_type": "code",
   "execution_count": 10,
   "metadata": {
    "scrolled": true
   },
   "outputs": [
    {
     "data": {
      "text/plain": [
       "243259"
      ]
     },
     "execution_count": 10,
     "metadata": {},
     "output_type": "execute_result"
    }
   ],
   "source": [
    "# How many observations null observations are there?\n",
    "\n",
    "fordgo.bike_share_for_all_trip.isnull().sum()"
   ]
  },
  {
   "cell_type": "code",
   "execution_count": 11,
   "metadata": {},
   "outputs": [
    {
     "data": {
      "text/plain": [
       "9.703256862930463"
      ]
     },
     "execution_count": 11,
     "metadata": {},
     "output_type": "execute_result"
    }
   ],
   "source": [
    "# Which percentage of  observations has null for bike_share\n",
    "\n",
    "fordgo.bike_share_for_all_trip.isnull().sum() / fordgo.shape[0] * 100"
   ]
  },
  {
   "cell_type": "code",
   "execution_count": 12,
   "metadata": {
    "scrolled": false
   },
   "outputs": [
    {
     "data": {
      "text/html": [
       "<div>\n",
       "<style scoped>\n",
       "    .dataframe tbody tr th:only-of-type {\n",
       "        vertical-align: middle;\n",
       "    }\n",
       "\n",
       "    .dataframe tbody tr th {\n",
       "        vertical-align: top;\n",
       "    }\n",
       "\n",
       "    .dataframe thead th {\n",
       "        text-align: right;\n",
       "    }\n",
       "</style>\n",
       "<table border=\"1\" class=\"dataframe\">\n",
       "  <thead>\n",
       "    <tr style=\"text-align: right;\">\n",
       "      <th></th>\n",
       "      <th>bike_id</th>\n",
       "      <th>bike_share_for_all_trip</th>\n",
       "      <th>duration_sec</th>\n",
       "      <th>end_station_id</th>\n",
       "      <th>end_station_latitude</th>\n",
       "      <th>end_station_longitude</th>\n",
       "      <th>end_station_name</th>\n",
       "      <th>end_time</th>\n",
       "      <th>rental_access_method</th>\n",
       "      <th>start_station_id</th>\n",
       "      <th>start_station_latitude</th>\n",
       "      <th>start_station_longitude</th>\n",
       "      <th>start_station_name</th>\n",
       "      <th>start_time</th>\n",
       "      <th>user_type</th>\n",
       "    </tr>\n",
       "  </thead>\n",
       "  <tbody>\n",
       "    <tr>\n",
       "      <th>1244296</th>\n",
       "      <td>678749</td>\n",
       "      <td>NaN</td>\n",
       "      <td>1060</td>\n",
       "      <td>NaN</td>\n",
       "      <td>37.343669</td>\n",
       "      <td>-121.914823</td>\n",
       "      <td>NaN</td>\n",
       "      <td>2019-06-10 11:30:50</td>\n",
       "      <td>app</td>\n",
       "      <td>NaN</td>\n",
       "      <td>37.343699</td>\n",
       "      <td>-121.914881</td>\n",
       "      <td>NaN</td>\n",
       "      <td>2019-06-10 11:13:10</td>\n",
       "      <td>Subscriber</td>\n",
       "    </tr>\n",
       "    <tr>\n",
       "      <th>1244287</th>\n",
       "      <td>678749</td>\n",
       "      <td>NaN</td>\n",
       "      <td>138</td>\n",
       "      <td>NaN</td>\n",
       "      <td>37.343697</td>\n",
       "      <td>-121.914921</td>\n",
       "      <td>NaN</td>\n",
       "      <td>2019-06-10 12:27:44</td>\n",
       "      <td>app</td>\n",
       "      <td>NaN</td>\n",
       "      <td>37.343662</td>\n",
       "      <td>-121.914887</td>\n",
       "      <td>NaN</td>\n",
       "      <td>2019-06-10 12:25:26</td>\n",
       "      <td>Subscriber</td>\n",
       "    </tr>\n",
       "    <tr>\n",
       "      <th>1244299</th>\n",
       "      <td>678749</td>\n",
       "      <td>NaN</td>\n",
       "      <td>61</td>\n",
       "      <td>NaN</td>\n",
       "      <td>37.343720</td>\n",
       "      <td>-121.914910</td>\n",
       "      <td>NaN</td>\n",
       "      <td>2019-06-10 12:49:42</td>\n",
       "      <td>app</td>\n",
       "      <td>NaN</td>\n",
       "      <td>37.343713</td>\n",
       "      <td>-121.914905</td>\n",
       "      <td>NaN</td>\n",
       "      <td>2019-06-10 12:48:40</td>\n",
       "      <td>Subscriber</td>\n",
       "    </tr>\n",
       "    <tr>\n",
       "      <th>1244293</th>\n",
       "      <td>678749</td>\n",
       "      <td>NaN</td>\n",
       "      <td>195</td>\n",
       "      <td>NaN</td>\n",
       "      <td>37.343677</td>\n",
       "      <td>-121.914877</td>\n",
       "      <td>NaN</td>\n",
       "      <td>2019-06-10 13:08:44</td>\n",
       "      <td>app</td>\n",
       "      <td>NaN</td>\n",
       "      <td>37.343681</td>\n",
       "      <td>-121.914960</td>\n",
       "      <td>NaN</td>\n",
       "      <td>2019-06-10 13:05:29</td>\n",
       "      <td>Subscriber</td>\n",
       "    </tr>\n",
       "    <tr>\n",
       "      <th>1244291</th>\n",
       "      <td>678749</td>\n",
       "      <td>NaN</td>\n",
       "      <td>602</td>\n",
       "      <td>422.0</td>\n",
       "      <td>37.336775</td>\n",
       "      <td>-121.909149</td>\n",
       "      <td>Stockton Ave at Lenzen Ave</td>\n",
       "      <td>2019-06-10 13:32:12</td>\n",
       "      <td>app</td>\n",
       "      <td>NaN</td>\n",
       "      <td>37.343681</td>\n",
       "      <td>-121.914913</td>\n",
       "      <td>NaN</td>\n",
       "      <td>2019-06-10 13:22:10</td>\n",
       "      <td>Subscriber</td>\n",
       "    </tr>\n",
       "    <tr>\n",
       "      <th>...</th>\n",
       "      <td>...</td>\n",
       "      <td>...</td>\n",
       "      <td>...</td>\n",
       "      <td>...</td>\n",
       "      <td>...</td>\n",
       "      <td>...</td>\n",
       "      <td>...</td>\n",
       "      <td>...</td>\n",
       "      <td>...</td>\n",
       "      <td>...</td>\n",
       "      <td>...</td>\n",
       "      <td>...</td>\n",
       "      <td>...</td>\n",
       "      <td>...</td>\n",
       "      <td>...</td>\n",
       "    </tr>\n",
       "    <tr>\n",
       "      <th>2356907</th>\n",
       "      <td>11683</td>\n",
       "      <td>NaN</td>\n",
       "      <td>782</td>\n",
       "      <td>23.0</td>\n",
       "      <td>37.791464</td>\n",
       "      <td>-122.391034</td>\n",
       "      <td>The Embarcadero at Steuart St</td>\n",
       "      <td>2020-01-01 00:09:36.7050</td>\n",
       "      <td>NaN</td>\n",
       "      <td>23.0</td>\n",
       "      <td>37.791464</td>\n",
       "      <td>-122.391034</td>\n",
       "      <td>The Embarcadero at Steuart St</td>\n",
       "      <td>2019-12-31 23:56:34.4620</td>\n",
       "      <td>Customer</td>\n",
       "    </tr>\n",
       "    <tr>\n",
       "      <th>2356906</th>\n",
       "      <td>11020</td>\n",
       "      <td>NaN</td>\n",
       "      <td>781</td>\n",
       "      <td>23.0</td>\n",
       "      <td>37.791464</td>\n",
       "      <td>-122.391034</td>\n",
       "      <td>The Embarcadero at Steuart St</td>\n",
       "      <td>2020-01-01 00:09:41.5450</td>\n",
       "      <td>NaN</td>\n",
       "      <td>23.0</td>\n",
       "      <td>37.791464</td>\n",
       "      <td>-122.391034</td>\n",
       "      <td>The Embarcadero at Steuart St</td>\n",
       "      <td>2019-12-31 23:56:40.3240</td>\n",
       "      <td>Customer</td>\n",
       "    </tr>\n",
       "    <tr>\n",
       "      <th>2356911</th>\n",
       "      <td>12734</td>\n",
       "      <td>NaN</td>\n",
       "      <td>185</td>\n",
       "      <td>75.0</td>\n",
       "      <td>37.773793</td>\n",
       "      <td>-122.421239</td>\n",
       "      <td>Market St at Franklin St</td>\n",
       "      <td>2020-01-01 00:00:07.4940</td>\n",
       "      <td>NaN</td>\n",
       "      <td>43.0</td>\n",
       "      <td>37.778768</td>\n",
       "      <td>-122.415929</td>\n",
       "      <td>San Francisco Public Library (Grove St at Hyde...</td>\n",
       "      <td>2019-12-31 23:57:01.5510</td>\n",
       "      <td>Customer</td>\n",
       "    </tr>\n",
       "    <tr>\n",
       "      <th>2356904</th>\n",
       "      <td>11448</td>\n",
       "      <td>NaN</td>\n",
       "      <td>1050</td>\n",
       "      <td>294.0</td>\n",
       "      <td>37.327581</td>\n",
       "      <td>-121.884559</td>\n",
       "      <td>Pierce Ave at Market St</td>\n",
       "      <td>2020-01-01 00:17:08.1880</td>\n",
       "      <td>NaN</td>\n",
       "      <td>473.0</td>\n",
       "      <td>37.309014</td>\n",
       "      <td>-121.900011</td>\n",
       "      <td>Willow St at Blewett Ave</td>\n",
       "      <td>2019-12-31 23:59:37.2060</td>\n",
       "      <td>Customer</td>\n",
       "    </tr>\n",
       "    <tr>\n",
       "      <th>2492243</th>\n",
       "      <td>137485</td>\n",
       "      <td>NaN</td>\n",
       "      <td>878</td>\n",
       "      <td>NaN</td>\n",
       "      <td>37.347327</td>\n",
       "      <td>-121.860899</td>\n",
       "      <td>NaN</td>\n",
       "      <td>2020-01-01 00:14:20</td>\n",
       "      <td>app</td>\n",
       "      <td>NaN</td>\n",
       "      <td>37.347557</td>\n",
       "      <td>-121.860903</td>\n",
       "      <td>NaN</td>\n",
       "      <td>2019-12-31 23:59:41</td>\n",
       "      <td>Customer</td>\n",
       "    </tr>\n",
       "  </tbody>\n",
       "</table>\n",
       "<p>243259 rows × 15 columns</p>\n",
       "</div>"
      ],
      "text/plain": [
       "         bike_id bike_share_for_all_trip  duration_sec  end_station_id  \\\n",
       "1244296   678749                     NaN          1060             NaN   \n",
       "1244287   678749                     NaN           138             NaN   \n",
       "1244299   678749                     NaN            61             NaN   \n",
       "1244293   678749                     NaN           195             NaN   \n",
       "1244291   678749                     NaN           602           422.0   \n",
       "...          ...                     ...           ...             ...   \n",
       "2356907    11683                     NaN           782            23.0   \n",
       "2356906    11020                     NaN           781            23.0   \n",
       "2356911    12734                     NaN           185            75.0   \n",
       "2356904    11448                     NaN          1050           294.0   \n",
       "2492243   137485                     NaN           878             NaN   \n",
       "\n",
       "         end_station_latitude  end_station_longitude  \\\n",
       "1244296             37.343669            -121.914823   \n",
       "1244287             37.343697            -121.914921   \n",
       "1244299             37.343720            -121.914910   \n",
       "1244293             37.343677            -121.914877   \n",
       "1244291             37.336775            -121.909149   \n",
       "...                       ...                    ...   \n",
       "2356907             37.791464            -122.391034   \n",
       "2356906             37.791464            -122.391034   \n",
       "2356911             37.773793            -122.421239   \n",
       "2356904             37.327581            -121.884559   \n",
       "2492243             37.347327            -121.860899   \n",
       "\n",
       "                      end_station_name                  end_time  \\\n",
       "1244296                            NaN       2019-06-10 11:30:50   \n",
       "1244287                            NaN       2019-06-10 12:27:44   \n",
       "1244299                            NaN       2019-06-10 12:49:42   \n",
       "1244293                            NaN       2019-06-10 13:08:44   \n",
       "1244291     Stockton Ave at Lenzen Ave       2019-06-10 13:32:12   \n",
       "...                                ...                       ...   \n",
       "2356907  The Embarcadero at Steuart St  2020-01-01 00:09:36.7050   \n",
       "2356906  The Embarcadero at Steuart St  2020-01-01 00:09:41.5450   \n",
       "2356911       Market St at Franklin St  2020-01-01 00:00:07.4940   \n",
       "2356904        Pierce Ave at Market St  2020-01-01 00:17:08.1880   \n",
       "2492243                            NaN       2020-01-01 00:14:20   \n",
       "\n",
       "        rental_access_method  start_station_id  start_station_latitude  \\\n",
       "1244296                  app               NaN               37.343699   \n",
       "1244287                  app               NaN               37.343662   \n",
       "1244299                  app               NaN               37.343713   \n",
       "1244293                  app               NaN               37.343681   \n",
       "1244291                  app               NaN               37.343681   \n",
       "...                      ...               ...                     ...   \n",
       "2356907                  NaN              23.0               37.791464   \n",
       "2356906                  NaN              23.0               37.791464   \n",
       "2356911                  NaN              43.0               37.778768   \n",
       "2356904                  NaN             473.0               37.309014   \n",
       "2492243                  app               NaN               37.347557   \n",
       "\n",
       "         start_station_longitude  \\\n",
       "1244296              -121.914881   \n",
       "1244287              -121.914887   \n",
       "1244299              -121.914905   \n",
       "1244293              -121.914960   \n",
       "1244291              -121.914913   \n",
       "...                          ...   \n",
       "2356907              -122.391034   \n",
       "2356906              -122.391034   \n",
       "2356911              -122.415929   \n",
       "2356904              -121.900011   \n",
       "2492243              -121.860903   \n",
       "\n",
       "                                        start_station_name  \\\n",
       "1244296                                                NaN   \n",
       "1244287                                                NaN   \n",
       "1244299                                                NaN   \n",
       "1244293                                                NaN   \n",
       "1244291                                                NaN   \n",
       "...                                                    ...   \n",
       "2356907                      The Embarcadero at Steuart St   \n",
       "2356906                      The Embarcadero at Steuart St   \n",
       "2356911  San Francisco Public Library (Grove St at Hyde...   \n",
       "2356904                           Willow St at Blewett Ave   \n",
       "2492243                                                NaN   \n",
       "\n",
       "                       start_time   user_type  \n",
       "1244296       2019-06-10 11:13:10  Subscriber  \n",
       "1244287       2019-06-10 12:25:26  Subscriber  \n",
       "1244299       2019-06-10 12:48:40  Subscriber  \n",
       "1244293       2019-06-10 13:05:29  Subscriber  \n",
       "1244291       2019-06-10 13:22:10  Subscriber  \n",
       "...                           ...         ...  \n",
       "2356907  2019-12-31 23:56:34.4620    Customer  \n",
       "2356906  2019-12-31 23:56:40.3240    Customer  \n",
       "2356911  2019-12-31 23:57:01.5510    Customer  \n",
       "2356904  2019-12-31 23:59:37.2060    Customer  \n",
       "2492243       2019-12-31 23:59:41    Customer  \n",
       "\n",
       "[243259 rows x 15 columns]"
      ]
     },
     "execution_count": 12,
     "metadata": {},
     "output_type": "execute_result"
    }
   ],
   "source": [
    "# Show the rows with nulls ordering them by start_time\n",
    "\n",
    "fordgo[fordgo.bike_share_for_all_trip.isnull()].sort_values(by=['start_time'])"
   ]
  },
  {
   "cell_type": "markdown",
   "metadata": {},
   "source": [
    "Null values started appearing in June"
   ]
  },
  {
   "cell_type": "code",
   "execution_count": null,
   "metadata": {},
   "outputs": [],
   "source": []
  },
  {
   "cell_type": "markdown",
   "metadata": {},
   "source": [
    "It looks like all missing bike_share_for_all_trip are happening after June, It has probably to do with all the new changes (dockless stations, Rebranding into Bay Wheels, etc.) which happened after 2019, we do not need this columns so we will delete it. w"
   ]
  },
  {
   "cell_type": "markdown",
   "metadata": {},
   "source": [
    "**Rental_access_method**"
   ]
  },
  {
   "cell_type": "code",
   "execution_count": 13,
   "metadata": {
    "scrolled": true
   },
   "outputs": [
    {
     "data": {
      "text/plain": [
       "2386145"
      ]
     },
     "execution_count": 13,
     "metadata": {},
     "output_type": "execute_result"
    }
   ],
   "source": [
    "#how many nulls there are\n",
    "\n",
    "fordgo.rental_access_method.isnull().sum()"
   ]
  },
  {
   "cell_type": "code",
   "execution_count": 14,
   "metadata": {
    "scrolled": true
   },
   "outputs": [
    {
     "data": {
      "text/plain": [
       "120838"
      ]
     },
     "execution_count": 14,
     "metadata": {},
     "output_type": "execute_result"
    }
   ],
   "source": [
    "#how many not nulls there are\n",
    "\n",
    "fordgo.rental_access_method.notnull().sum()"
   ]
  },
  {
   "cell_type": "code",
   "execution_count": 15,
   "metadata": {},
   "outputs": [
    {
     "data": {
      "text/plain": [
       "4.820056617855007"
      ]
     },
     "execution_count": 15,
     "metadata": {},
     "output_type": "execute_result"
    }
   ],
   "source": [
    "# Percentage of total observations were rental access is not null\n",
    "fordgo.rental_access_method.notnull().sum() /fordgo.shape[0] * 100"
   ]
  },
  {
   "cell_type": "code",
   "execution_count": 16,
   "metadata": {
    "scrolled": true
   },
   "outputs": [
    {
     "data": {
      "text/html": [
       "<div>\n",
       "<style scoped>\n",
       "    .dataframe tbody tr th:only-of-type {\n",
       "        vertical-align: middle;\n",
       "    }\n",
       "\n",
       "    .dataframe tbody tr th {\n",
       "        vertical-align: top;\n",
       "    }\n",
       "\n",
       "    .dataframe thead th {\n",
       "        text-align: right;\n",
       "    }\n",
       "</style>\n",
       "<table border=\"1\" class=\"dataframe\">\n",
       "  <thead>\n",
       "    <tr style=\"text-align: right;\">\n",
       "      <th></th>\n",
       "      <th>bike_id</th>\n",
       "      <th>bike_share_for_all_trip</th>\n",
       "      <th>duration_sec</th>\n",
       "      <th>end_station_id</th>\n",
       "      <th>end_station_latitude</th>\n",
       "      <th>end_station_longitude</th>\n",
       "      <th>end_station_name</th>\n",
       "      <th>end_time</th>\n",
       "      <th>rental_access_method</th>\n",
       "      <th>start_station_id</th>\n",
       "      <th>start_station_latitude</th>\n",
       "      <th>start_station_longitude</th>\n",
       "      <th>start_station_name</th>\n",
       "      <th>start_time</th>\n",
       "      <th>user_type</th>\n",
       "    </tr>\n",
       "  </thead>\n",
       "  <tbody>\n",
       "    <tr>\n",
       "      <th>1244296</th>\n",
       "      <td>678749</td>\n",
       "      <td>NaN</td>\n",
       "      <td>1060</td>\n",
       "      <td>NaN</td>\n",
       "      <td>37.343669</td>\n",
       "      <td>-121.914823</td>\n",
       "      <td>NaN</td>\n",
       "      <td>2019-06-10 11:30:50</td>\n",
       "      <td>app</td>\n",
       "      <td>NaN</td>\n",
       "      <td>37.343699</td>\n",
       "      <td>-121.914881</td>\n",
       "      <td>NaN</td>\n",
       "      <td>2019-06-10 11:13:10</td>\n",
       "      <td>Subscriber</td>\n",
       "    </tr>\n",
       "  </tbody>\n",
       "</table>\n",
       "</div>"
      ],
      "text/plain": [
       "         bike_id bike_share_for_all_trip  duration_sec  end_station_id  \\\n",
       "1244296   678749                     NaN          1060             NaN   \n",
       "\n",
       "         end_station_latitude  end_station_longitude end_station_name  \\\n",
       "1244296             37.343669            -121.914823              NaN   \n",
       "\n",
       "                    end_time rental_access_method  start_station_id  \\\n",
       "1244296  2019-06-10 11:30:50                  app               NaN   \n",
       "\n",
       "         start_station_latitude  start_station_longitude start_station_name  \\\n",
       "1244296               37.343699              -121.914881                NaN   \n",
       "\n",
       "                  start_time   user_type  \n",
       "1244296  2019-06-10 11:13:10  Subscriber  "
      ]
     },
     "execution_count": 16,
     "metadata": {},
     "output_type": "execute_result"
    }
   ],
   "source": [
    "# Show NOT null rows ordering them by start time\n",
    "fordgo[fordgo.rental_access_method.notnull()].sort_values(by=['start_time']).head(1)"
   ]
  },
  {
   "cell_type": "code",
   "execution_count": 17,
   "metadata": {},
   "outputs": [
    {
     "data": {
      "text/plain": [
       "app        108010\n",
       "clipper     12828\n",
       "Name: rental_access_method, dtype: int64"
      ]
     },
     "execution_count": 17,
     "metadata": {},
     "output_type": "execute_result"
    }
   ],
   "source": [
    "fordgo[fordgo.bike_share_for_all_trip.isnull()]['rental_access_method'].value_counts()"
   ]
  },
  {
   "cell_type": "code",
   "execution_count": 18,
   "metadata": {
    "scrolled": true
   },
   "outputs": [
    {
     "data": {
      "text/plain": [
       "120838"
      ]
     },
     "execution_count": 18,
     "metadata": {},
     "output_type": "execute_result"
    }
   ],
   "source": [
    "# How many rows is rental access NOT null and bike_share for all is null\n",
    "\n",
    "fordgo[(fordgo.rental_access_method.notnull()) & (fordgo.bike_share_for_all_trip.isnull())].shape[0]"
   ]
  },
  {
   "cell_type": "code",
   "execution_count": 19,
   "metadata": {},
   "outputs": [
    {
     "data": {
      "text/plain": [
       "122421"
      ]
     },
     "execution_count": 19,
     "metadata": {},
     "output_type": "execute_result"
    }
   ],
   "source": [
    "# How many rows is rental access null and bike_share for all is null\n",
    "\n",
    "fordgo[(fordgo.rental_access_method.isnull()) & (fordgo.bike_share_for_all_trip.isnull())].shape[0]"
   ]
  },
  {
   "cell_type": "code",
   "execution_count": 20,
   "metadata": {},
   "outputs": [
    {
     "data": {
      "text/plain": [
       "0.4967462663251925"
      ]
     },
     "execution_count": 20,
     "metadata": {},
     "output_type": "execute_result"
    }
   ],
   "source": [
    "# Percentage of missing bike_share_for_all which is explained by rental access not being null\n",
    "\n",
    "fordgo[(fordgo.rental_access_method.notnull()) & (fordgo.bike_share_for_all_trip.isnull())].shape[0] / fordgo.bike_share_for_all_trip.isnull().sum()"
   ]
  },
  {
   "cell_type": "code",
   "execution_count": 21,
   "metadata": {},
   "outputs": [
    {
     "data": {
      "text/html": [
       "<div>\n",
       "<style scoped>\n",
       "    .dataframe tbody tr th:only-of-type {\n",
       "        vertical-align: middle;\n",
       "    }\n",
       "\n",
       "    .dataframe tbody tr th {\n",
       "        vertical-align: top;\n",
       "    }\n",
       "\n",
       "    .dataframe thead th {\n",
       "        text-align: right;\n",
       "    }\n",
       "</style>\n",
       "<table border=\"1\" class=\"dataframe\">\n",
       "  <thead>\n",
       "    <tr style=\"text-align: right;\">\n",
       "      <th></th>\n",
       "      <th>bike_id</th>\n",
       "      <th>bike_share_for_all_trip</th>\n",
       "      <th>duration_sec</th>\n",
       "      <th>end_station_id</th>\n",
       "      <th>end_station_latitude</th>\n",
       "      <th>end_station_longitude</th>\n",
       "      <th>end_station_name</th>\n",
       "      <th>end_time</th>\n",
       "      <th>rental_access_method</th>\n",
       "      <th>start_station_id</th>\n",
       "      <th>start_station_latitude</th>\n",
       "      <th>start_station_longitude</th>\n",
       "      <th>start_station_name</th>\n",
       "      <th>start_time</th>\n",
       "      <th>user_type</th>\n",
       "    </tr>\n",
       "  </thead>\n",
       "  <tbody>\n",
       "    <tr>\n",
       "      <th>2479301</th>\n",
       "      <td>1071</td>\n",
       "      <td>NaN</td>\n",
       "      <td>209</td>\n",
       "      <td>234.0</td>\n",
       "      <td>37.778058</td>\n",
       "      <td>-122.225400</td>\n",
       "      <td>Fruitvale Ave at International Blvd</td>\n",
       "      <td>2019-12-01 00:03:54.8360</td>\n",
       "      <td>NaN</td>\n",
       "      <td>237.0</td>\n",
       "      <td>37.775232</td>\n",
       "      <td>-122.224498</td>\n",
       "      <td>Fruitvale BART Station</td>\n",
       "      <td>2019-12-01 00:00:25.3360</td>\n",
       "      <td>Customer</td>\n",
       "    </tr>\n",
       "    <tr>\n",
       "      <th>2479299</th>\n",
       "      <td>10242</td>\n",
       "      <td>NaN</td>\n",
       "      <td>682</td>\n",
       "      <td>109.0</td>\n",
       "      <td>37.763316</td>\n",
       "      <td>-122.421904</td>\n",
       "      <td>17th St at Valencia St</td>\n",
       "      <td>2019-12-01 00:15:09.3520</td>\n",
       "      <td>NaN</td>\n",
       "      <td>130.0</td>\n",
       "      <td>37.757704</td>\n",
       "      <td>-122.391885</td>\n",
       "      <td>22nd St Caltrain Station</td>\n",
       "      <td>2019-12-01 00:03:46.6890</td>\n",
       "      <td>Customer</td>\n",
       "    </tr>\n",
       "    <tr>\n",
       "      <th>2479298</th>\n",
       "      <td>9787</td>\n",
       "      <td>NaN</td>\n",
       "      <td>720</td>\n",
       "      <td>387.0</td>\n",
       "      <td>37.739813</td>\n",
       "      <td>-122.425523</td>\n",
       "      <td>Randall St at Chenery St</td>\n",
       "      <td>2019-12-01 00:19:45.0080</td>\n",
       "      <td>NaN</td>\n",
       "      <td>127.0</td>\n",
       "      <td>37.756708</td>\n",
       "      <td>-122.421025</td>\n",
       "      <td>Valencia St at 21st St</td>\n",
       "      <td>2019-12-01 00:07:44.8400</td>\n",
       "      <td>Customer</td>\n",
       "    </tr>\n",
       "    <tr>\n",
       "      <th>2479300</th>\n",
       "      <td>12086</td>\n",
       "      <td>NaN</td>\n",
       "      <td>305</td>\n",
       "      <td>296.0</td>\n",
       "      <td>37.325998</td>\n",
       "      <td>-121.877120</td>\n",
       "      <td>5th St at Virginia St</td>\n",
       "      <td>2019-12-01 00:14:53.5780</td>\n",
       "      <td>NaN</td>\n",
       "      <td>423.0</td>\n",
       "      <td>37.320316</td>\n",
       "      <td>-121.870099</td>\n",
       "      <td>South San Jose State (7th St at Humboldt St)</td>\n",
       "      <td>2019-12-01 00:09:48.5620</td>\n",
       "      <td>Subscriber</td>\n",
       "    </tr>\n",
       "    <tr>\n",
       "      <th>2479297</th>\n",
       "      <td>2986</td>\n",
       "      <td>NaN</td>\n",
       "      <td>831</td>\n",
       "      <td>187.0</td>\n",
       "      <td>37.796248</td>\n",
       "      <td>-122.279352</td>\n",
       "      <td>Jack London Square</td>\n",
       "      <td>2019-12-01 00:27:31.1700</td>\n",
       "      <td>NaN</td>\n",
       "      <td>337.0</td>\n",
       "      <td>37.806970</td>\n",
       "      <td>-122.266588</td>\n",
       "      <td>Webster St at 19th St</td>\n",
       "      <td>2019-12-01 00:13:39.2220</td>\n",
       "      <td>Subscriber</td>\n",
       "    </tr>\n",
       "    <tr>\n",
       "      <th>...</th>\n",
       "      <td>...</td>\n",
       "      <td>...</td>\n",
       "      <td>...</td>\n",
       "      <td>...</td>\n",
       "      <td>...</td>\n",
       "      <td>...</td>\n",
       "      <td>...</td>\n",
       "      <td>...</td>\n",
       "      <td>...</td>\n",
       "      <td>...</td>\n",
       "      <td>...</td>\n",
       "      <td>...</td>\n",
       "      <td>...</td>\n",
       "      <td>...</td>\n",
       "      <td>...</td>\n",
       "    </tr>\n",
       "    <tr>\n",
       "      <th>2356902</th>\n",
       "      <td>9829</td>\n",
       "      <td>NaN</td>\n",
       "      <td>1275</td>\n",
       "      <td>17.0</td>\n",
       "      <td>37.792251</td>\n",
       "      <td>-122.397086</td>\n",
       "      <td>Embarcadero BART Station (Beale St at Market St)</td>\n",
       "      <td>2020-01-01 00:17:21.9350</td>\n",
       "      <td>NaN</td>\n",
       "      <td>462.0</td>\n",
       "      <td>37.804223</td>\n",
       "      <td>-122.401643</td>\n",
       "      <td>Cruise Terminal at Pier 27</td>\n",
       "      <td>2019-12-31 23:56:05.9390</td>\n",
       "      <td>Customer</td>\n",
       "    </tr>\n",
       "    <tr>\n",
       "      <th>2356907</th>\n",
       "      <td>11683</td>\n",
       "      <td>NaN</td>\n",
       "      <td>782</td>\n",
       "      <td>23.0</td>\n",
       "      <td>37.791464</td>\n",
       "      <td>-122.391034</td>\n",
       "      <td>The Embarcadero at Steuart St</td>\n",
       "      <td>2020-01-01 00:09:36.7050</td>\n",
       "      <td>NaN</td>\n",
       "      <td>23.0</td>\n",
       "      <td>37.791464</td>\n",
       "      <td>-122.391034</td>\n",
       "      <td>The Embarcadero at Steuart St</td>\n",
       "      <td>2019-12-31 23:56:34.4620</td>\n",
       "      <td>Customer</td>\n",
       "    </tr>\n",
       "    <tr>\n",
       "      <th>2356906</th>\n",
       "      <td>11020</td>\n",
       "      <td>NaN</td>\n",
       "      <td>781</td>\n",
       "      <td>23.0</td>\n",
       "      <td>37.791464</td>\n",
       "      <td>-122.391034</td>\n",
       "      <td>The Embarcadero at Steuart St</td>\n",
       "      <td>2020-01-01 00:09:41.5450</td>\n",
       "      <td>NaN</td>\n",
       "      <td>23.0</td>\n",
       "      <td>37.791464</td>\n",
       "      <td>-122.391034</td>\n",
       "      <td>The Embarcadero at Steuart St</td>\n",
       "      <td>2019-12-31 23:56:40.3240</td>\n",
       "      <td>Customer</td>\n",
       "    </tr>\n",
       "    <tr>\n",
       "      <th>2356911</th>\n",
       "      <td>12734</td>\n",
       "      <td>NaN</td>\n",
       "      <td>185</td>\n",
       "      <td>75.0</td>\n",
       "      <td>37.773793</td>\n",
       "      <td>-122.421239</td>\n",
       "      <td>Market St at Franklin St</td>\n",
       "      <td>2020-01-01 00:00:07.4940</td>\n",
       "      <td>NaN</td>\n",
       "      <td>43.0</td>\n",
       "      <td>37.778768</td>\n",
       "      <td>-122.415929</td>\n",
       "      <td>San Francisco Public Library (Grove St at Hyde...</td>\n",
       "      <td>2019-12-31 23:57:01.5510</td>\n",
       "      <td>Customer</td>\n",
       "    </tr>\n",
       "    <tr>\n",
       "      <th>2356904</th>\n",
       "      <td>11448</td>\n",
       "      <td>NaN</td>\n",
       "      <td>1050</td>\n",
       "      <td>294.0</td>\n",
       "      <td>37.327581</td>\n",
       "      <td>-121.884559</td>\n",
       "      <td>Pierce Ave at Market St</td>\n",
       "      <td>2020-01-01 00:17:08.1880</td>\n",
       "      <td>NaN</td>\n",
       "      <td>473.0</td>\n",
       "      <td>37.309014</td>\n",
       "      <td>-121.900011</td>\n",
       "      <td>Willow St at Blewett Ave</td>\n",
       "      <td>2019-12-31 23:59:37.2060</td>\n",
       "      <td>Customer</td>\n",
       "    </tr>\n",
       "  </tbody>\n",
       "</table>\n",
       "<p>122421 rows × 15 columns</p>\n",
       "</div>"
      ],
      "text/plain": [
       "         bike_id bike_share_for_all_trip  duration_sec  end_station_id  \\\n",
       "2479301     1071                     NaN           209           234.0   \n",
       "2479299    10242                     NaN           682           109.0   \n",
       "2479298     9787                     NaN           720           387.0   \n",
       "2479300    12086                     NaN           305           296.0   \n",
       "2479297     2986                     NaN           831           187.0   \n",
       "...          ...                     ...           ...             ...   \n",
       "2356902     9829                     NaN          1275            17.0   \n",
       "2356907    11683                     NaN           782            23.0   \n",
       "2356906    11020                     NaN           781            23.0   \n",
       "2356911    12734                     NaN           185            75.0   \n",
       "2356904    11448                     NaN          1050           294.0   \n",
       "\n",
       "         end_station_latitude  end_station_longitude  \\\n",
       "2479301             37.778058            -122.225400   \n",
       "2479299             37.763316            -122.421904   \n",
       "2479298             37.739813            -122.425523   \n",
       "2479300             37.325998            -121.877120   \n",
       "2479297             37.796248            -122.279352   \n",
       "...                       ...                    ...   \n",
       "2356902             37.792251            -122.397086   \n",
       "2356907             37.791464            -122.391034   \n",
       "2356906             37.791464            -122.391034   \n",
       "2356911             37.773793            -122.421239   \n",
       "2356904             37.327581            -121.884559   \n",
       "\n",
       "                                         end_station_name  \\\n",
       "2479301               Fruitvale Ave at International Blvd   \n",
       "2479299                            17th St at Valencia St   \n",
       "2479298                          Randall St at Chenery St   \n",
       "2479300                             5th St at Virginia St   \n",
       "2479297                                Jack London Square   \n",
       "...                                                   ...   \n",
       "2356902  Embarcadero BART Station (Beale St at Market St)   \n",
       "2356907                     The Embarcadero at Steuart St   \n",
       "2356906                     The Embarcadero at Steuart St   \n",
       "2356911                          Market St at Franklin St   \n",
       "2356904                           Pierce Ave at Market St   \n",
       "\n",
       "                         end_time rental_access_method  start_station_id  \\\n",
       "2479301  2019-12-01 00:03:54.8360                  NaN             237.0   \n",
       "2479299  2019-12-01 00:15:09.3520                  NaN             130.0   \n",
       "2479298  2019-12-01 00:19:45.0080                  NaN             127.0   \n",
       "2479300  2019-12-01 00:14:53.5780                  NaN             423.0   \n",
       "2479297  2019-12-01 00:27:31.1700                  NaN             337.0   \n",
       "...                           ...                  ...               ...   \n",
       "2356902  2020-01-01 00:17:21.9350                  NaN             462.0   \n",
       "2356907  2020-01-01 00:09:36.7050                  NaN              23.0   \n",
       "2356906  2020-01-01 00:09:41.5450                  NaN              23.0   \n",
       "2356911  2020-01-01 00:00:07.4940                  NaN              43.0   \n",
       "2356904  2020-01-01 00:17:08.1880                  NaN             473.0   \n",
       "\n",
       "         start_station_latitude  start_station_longitude  \\\n",
       "2479301               37.775232              -122.224498   \n",
       "2479299               37.757704              -122.391885   \n",
       "2479298               37.756708              -122.421025   \n",
       "2479300               37.320316              -121.870099   \n",
       "2479297               37.806970              -122.266588   \n",
       "...                         ...                      ...   \n",
       "2356902               37.804223              -122.401643   \n",
       "2356907               37.791464              -122.391034   \n",
       "2356906               37.791464              -122.391034   \n",
       "2356911               37.778768              -122.415929   \n",
       "2356904               37.309014              -121.900011   \n",
       "\n",
       "                                        start_station_name  \\\n",
       "2479301                             Fruitvale BART Station   \n",
       "2479299                           22nd St Caltrain Station   \n",
       "2479298                             Valencia St at 21st St   \n",
       "2479300       South San Jose State (7th St at Humboldt St)   \n",
       "2479297                              Webster St at 19th St   \n",
       "...                                                    ...   \n",
       "2356902                         Cruise Terminal at Pier 27   \n",
       "2356907                      The Embarcadero at Steuart St   \n",
       "2356906                      The Embarcadero at Steuart St   \n",
       "2356911  San Francisco Public Library (Grove St at Hyde...   \n",
       "2356904                           Willow St at Blewett Ave   \n",
       "\n",
       "                       start_time   user_type  \n",
       "2479301  2019-12-01 00:00:25.3360    Customer  \n",
       "2479299  2019-12-01 00:03:46.6890    Customer  \n",
       "2479298  2019-12-01 00:07:44.8400    Customer  \n",
       "2479300  2019-12-01 00:09:48.5620  Subscriber  \n",
       "2479297  2019-12-01 00:13:39.2220  Subscriber  \n",
       "...                           ...         ...  \n",
       "2356902  2019-12-31 23:56:05.9390    Customer  \n",
       "2356907  2019-12-31 23:56:34.4620    Customer  \n",
       "2356906  2019-12-31 23:56:40.3240    Customer  \n",
       "2356911  2019-12-31 23:57:01.5510    Customer  \n",
       "2356904  2019-12-31 23:59:37.2060    Customer  \n",
       "\n",
       "[122421 rows x 15 columns]"
      ]
     },
     "execution_count": 21,
     "metadata": {},
     "output_type": "execute_result"
    }
   ],
   "source": [
    "fordgo[(fordgo.rental_access_method.isnull()) & (fordgo.bike_share_for_all_trip.isnull())].sort_values(by=['start_time'])"
   ]
  },
  {
   "cell_type": "code",
   "execution_count": 22,
   "metadata": {
    "scrolled": true
   },
   "outputs": [
    {
     "data": {
      "text/plain": [
       "Series([], Name: bike_share_for_all_trip, dtype: int64)"
      ]
     },
     "execution_count": 22,
     "metadata": {},
     "output_type": "execute_result"
    }
   ],
   "source": [
    "fordgo[fordgo.start_time.str.contains('2019-12')].bike_share_for_all_trip.value_counts()"
   ]
  },
  {
   "cell_type": "markdown",
   "metadata": {},
   "source": [
    "Only 4% of the rows have a defined value for rental_access_method. In addition, these values begin to appear at the same time as the null values  \n",
    "in the variable bike_share_for_all.\n",
    "\n",
    "After a small analysis, we have noticed that, in all observations where the rental_access_method contains a value, the value of the bike_share_for_all variable **is null**, accounting for 50% of total missing values in the variable.\n",
    "\n",
    "\n",
    "Both Variables are somehow related we don't know why, but we don't need them for our analysis so we are going to delete them"
   ]
  },
  {
   "cell_type": "code",
   "execution_count": 23,
   "metadata": {
    "scrolled": true
   },
   "outputs": [
    {
     "data": {
      "text/html": [
       "<div>\n",
       "<style scoped>\n",
       "    .dataframe tbody tr th:only-of-type {\n",
       "        vertical-align: middle;\n",
       "    }\n",
       "\n",
       "    .dataframe tbody tr th {\n",
       "        vertical-align: top;\n",
       "    }\n",
       "\n",
       "    .dataframe thead th {\n",
       "        text-align: right;\n",
       "    }\n",
       "</style>\n",
       "<table border=\"1\" class=\"dataframe\">\n",
       "  <thead>\n",
       "    <tr style=\"text-align: right;\">\n",
       "      <th></th>\n",
       "      <th>bike_id</th>\n",
       "      <th>bike_share_for_all_trip</th>\n",
       "      <th>duration_sec</th>\n",
       "      <th>end_station_id</th>\n",
       "      <th>end_station_latitude</th>\n",
       "      <th>end_station_longitude</th>\n",
       "      <th>end_station_name</th>\n",
       "      <th>end_time</th>\n",
       "      <th>rental_access_method</th>\n",
       "      <th>start_station_id</th>\n",
       "      <th>start_station_latitude</th>\n",
       "      <th>start_station_longitude</th>\n",
       "      <th>start_station_name</th>\n",
       "      <th>start_time</th>\n",
       "      <th>user_type</th>\n",
       "    </tr>\n",
       "    <tr>\n",
       "      <th>start_time</th>\n",
       "      <th></th>\n",
       "      <th></th>\n",
       "      <th></th>\n",
       "      <th></th>\n",
       "      <th></th>\n",
       "      <th></th>\n",
       "      <th></th>\n",
       "      <th></th>\n",
       "      <th></th>\n",
       "      <th></th>\n",
       "      <th></th>\n",
       "      <th></th>\n",
       "      <th></th>\n",
       "      <th></th>\n",
       "      <th></th>\n",
       "    </tr>\n",
       "  </thead>\n",
       "  <tbody>\n",
       "    <tr>\n",
       "      <th>2019-01-31 17:57:44.613</th>\n",
       "      <td>4861</td>\n",
       "      <td>No</td>\n",
       "      <td>80825</td>\n",
       "      <td>196.0</td>\n",
       "      <td>37.808894</td>\n",
       "      <td>-122.25646</td>\n",
       "      <td>Grand Ave at Perkins St</td>\n",
       "      <td>2019-02-01 16:24:49.8640</td>\n",
       "      <td>NaN</td>\n",
       "      <td>229.0</td>\n",
       "      <td>37.775745</td>\n",
       "      <td>-122.213037</td>\n",
       "      <td>Foothill Blvd at 42nd Ave</td>\n",
       "      <td>2019-01-31 17:57:44.613</td>\n",
       "      <td>Subscriber</td>\n",
       "    </tr>\n",
       "  </tbody>\n",
       "</table>\n",
       "</div>"
      ],
      "text/plain": [
       "                         bike_id bike_share_for_all_trip  duration_sec  \\\n",
       "start_time                                                               \n",
       "2019-01-31 17:57:44.613     4861                      No         80825   \n",
       "\n",
       "                         end_station_id  end_station_latitude  \\\n",
       "start_time                                                      \n",
       "2019-01-31 17:57:44.613           196.0             37.808894   \n",
       "\n",
       "                         end_station_longitude         end_station_name  \\\n",
       "start_time                                                                \n",
       "2019-01-31 17:57:44.613             -122.25646  Grand Ave at Perkins St   \n",
       "\n",
       "                                         end_time rental_access_method  \\\n",
       "start_time                                                               \n",
       "2019-01-31 17:57:44.613  2019-02-01 16:24:49.8640                  NaN   \n",
       "\n",
       "                         start_station_id  start_station_latitude  \\\n",
       "start_time                                                          \n",
       "2019-01-31 17:57:44.613             229.0               37.775745   \n",
       "\n",
       "                         start_station_longitude         start_station_name  \\\n",
       "start_time                                                                    \n",
       "2019-01-31 17:57:44.613              -122.213037  Foothill Blvd at 42nd Ave   \n",
       "\n",
       "                                     start_time   user_type  \n",
       "start_time                                                   \n",
       "2019-01-31 17:57:44.613 2019-01-31 17:57:44.613  Subscriber  "
      ]
     },
     "execution_count": 23,
     "metadata": {},
     "output_type": "execute_result"
    }
   ],
   "source": [
    "# Create a copyof the DataFrame and set start_time as index\n",
    "\n",
    "fordgo_copy = fordgo.copy()\n",
    "\n",
    "fordgo_copy['start_time'] = pd.to_datetime(fordgo_copy['start_time'])\n",
    "\n",
    "fordgo_copy.index = fordgo_copy.start_time\n",
    "\n",
    "fordgo_copy.head(1)"
   ]
  },
  {
   "cell_type": "code",
   "execution_count": null,
   "metadata": {},
   "outputs": [],
   "source": []
  },
  {
   "cell_type": "code",
   "execution_count": null,
   "metadata": {},
   "outputs": [],
   "source": []
  },
  {
   "cell_type": "markdown",
   "metadata": {},
   "source": [
    "**end_station_id, start_station_id**\n"
   ]
  },
  {
   "cell_type": "code",
   "execution_count": 24,
   "metadata": {},
   "outputs": [
    {
     "data": {
      "text/plain": [
       "82902"
      ]
     },
     "execution_count": 24,
     "metadata": {},
     "output_type": "execute_result"
    }
   ],
   "source": [
    "# Number of null end_station_ids\n",
    "\n",
    "fordgo.end_station_id.isnull().sum()"
   ]
  },
  {
   "cell_type": "code",
   "execution_count": 25,
   "metadata": {
    "scrolled": true
   },
   "outputs": [
    {
     "data": {
      "text/plain": [
       "80734"
      ]
     },
     "execution_count": 25,
     "metadata": {},
     "output_type": "execute_result"
    }
   ],
   "source": [
    "# Number of null start_station_ids\n",
    "\n",
    "fordgo.start_station_id.isnull().sum()"
   ]
  },
  {
   "cell_type": "code",
   "execution_count": 26,
   "metadata": {},
   "outputs": [
    {
     "data": {
      "text/plain": [
       "63912"
      ]
     },
     "execution_count": 26,
     "metadata": {},
     "output_type": "execute_result"
    }
   ],
   "source": [
    "# Number of null start_station_ids and # Number of null end_station_ids\n",
    "\n",
    "\n",
    "len(fordgo[fordgo.start_station_id.isnull() & fordgo.end_station_id.isnull()])"
   ]
  },
  {
   "cell_type": "code",
   "execution_count": 27,
   "metadata": {
    "scrolled": true
   },
   "outputs": [
    {
     "data": {
      "text/html": [
       "<div>\n",
       "<style scoped>\n",
       "    .dataframe tbody tr th:only-of-type {\n",
       "        vertical-align: middle;\n",
       "    }\n",
       "\n",
       "    .dataframe tbody tr th {\n",
       "        vertical-align: top;\n",
       "    }\n",
       "\n",
       "    .dataframe thead th {\n",
       "        text-align: right;\n",
       "    }\n",
       "</style>\n",
       "<table border=\"1\" class=\"dataframe\">\n",
       "  <thead>\n",
       "    <tr style=\"text-align: right;\">\n",
       "      <th></th>\n",
       "      <th>bike_id</th>\n",
       "      <th>bike_share_for_all_trip</th>\n",
       "      <th>duration_sec</th>\n",
       "      <th>end_station_id</th>\n",
       "      <th>end_station_latitude</th>\n",
       "      <th>end_station_longitude</th>\n",
       "      <th>end_station_name</th>\n",
       "      <th>end_time</th>\n",
       "      <th>rental_access_method</th>\n",
       "      <th>start_station_id</th>\n",
       "      <th>start_station_latitude</th>\n",
       "      <th>start_station_longitude</th>\n",
       "      <th>start_station_name</th>\n",
       "      <th>start_time</th>\n",
       "      <th>user_type</th>\n",
       "    </tr>\n",
       "  </thead>\n",
       "  <tbody>\n",
       "    <tr>\n",
       "      <th>2498952</th>\n",
       "      <td>998430</td>\n",
       "      <td>NaN</td>\n",
       "      <td>608</td>\n",
       "      <td>NaN</td>\n",
       "      <td>37.759366</td>\n",
       "      <td>-122.391412</td>\n",
       "      <td>NaN</td>\n",
       "      <td>2019-12-19 14:24:13</td>\n",
       "      <td>app</td>\n",
       "      <td>NaN</td>\n",
       "      <td>37.775034</td>\n",
       "      <td>-122.402316</td>\n",
       "      <td>NaN</td>\n",
       "      <td>2019-12-19 14:14:04</td>\n",
       "      <td>Subscriber</td>\n",
       "    </tr>\n",
       "    <tr>\n",
       "      <th>1489482</th>\n",
       "      <td>285897</td>\n",
       "      <td>NaN</td>\n",
       "      <td>1700</td>\n",
       "      <td>NaN</td>\n",
       "      <td>37.776931</td>\n",
       "      <td>-122.407853</td>\n",
       "      <td>NaN</td>\n",
       "      <td>2019-07-28 13:58:17</td>\n",
       "      <td>app</td>\n",
       "      <td>NaN</td>\n",
       "      <td>37.808245</td>\n",
       "      <td>-122.408287</td>\n",
       "      <td>NaN</td>\n",
       "      <td>2019-07-28 13:29:57</td>\n",
       "      <td>Subscriber</td>\n",
       "    </tr>\n",
       "    <tr>\n",
       "      <th>1420623</th>\n",
       "      <td>833957</td>\n",
       "      <td>NaN</td>\n",
       "      <td>258</td>\n",
       "      <td>NaN</td>\n",
       "      <td>37.338413</td>\n",
       "      <td>-121.884232</td>\n",
       "      <td>NaN</td>\n",
       "      <td>2019-07-04 19:50:09</td>\n",
       "      <td>app</td>\n",
       "      <td>NaN</td>\n",
       "      <td>37.333680</td>\n",
       "      <td>-121.885140</td>\n",
       "      <td>NaN</td>\n",
       "      <td>2019-07-04 19:45:51</td>\n",
       "      <td>Subscriber</td>\n",
       "    </tr>\n",
       "    <tr>\n",
       "      <th>2492360</th>\n",
       "      <td>839579</td>\n",
       "      <td>NaN</td>\n",
       "      <td>455</td>\n",
       "      <td>NaN</td>\n",
       "      <td>37.337116</td>\n",
       "      <td>-121.883106</td>\n",
       "      <td>NaN</td>\n",
       "      <td>2019-12-17 12:13:32</td>\n",
       "      <td>app</td>\n",
       "      <td>304.0</td>\n",
       "      <td>37.348759</td>\n",
       "      <td>-121.894798</td>\n",
       "      <td>Jackson St at 5th St</td>\n",
       "      <td>2019-12-17 12:05:57</td>\n",
       "      <td>Subscriber</td>\n",
       "    </tr>\n",
       "    <tr>\n",
       "      <th>1497112</th>\n",
       "      <td>226031</td>\n",
       "      <td>NaN</td>\n",
       "      <td>111</td>\n",
       "      <td>NaN</td>\n",
       "      <td>37.851148</td>\n",
       "      <td>-122.252592</td>\n",
       "      <td>NaN</td>\n",
       "      <td>2019-07-13 15:18:31</td>\n",
       "      <td>app</td>\n",
       "      <td>NaN</td>\n",
       "      <td>37.850319</td>\n",
       "      <td>-122.252200</td>\n",
       "      <td>NaN</td>\n",
       "      <td>2019-07-13 15:16:39</td>\n",
       "      <td>Subscriber</td>\n",
       "    </tr>\n",
       "  </tbody>\n",
       "</table>\n",
       "</div>"
      ],
      "text/plain": [
       "         bike_id bike_share_for_all_trip  duration_sec  end_station_id  \\\n",
       "2498952   998430                     NaN           608             NaN   \n",
       "1489482   285897                     NaN          1700             NaN   \n",
       "1420623   833957                     NaN           258             NaN   \n",
       "2492360   839579                     NaN           455             NaN   \n",
       "1497112   226031                     NaN           111             NaN   \n",
       "\n",
       "         end_station_latitude  end_station_longitude end_station_name  \\\n",
       "2498952             37.759366            -122.391412              NaN   \n",
       "1489482             37.776931            -122.407853              NaN   \n",
       "1420623             37.338413            -121.884232              NaN   \n",
       "2492360             37.337116            -121.883106              NaN   \n",
       "1497112             37.851148            -122.252592              NaN   \n",
       "\n",
       "                    end_time rental_access_method  start_station_id  \\\n",
       "2498952  2019-12-19 14:24:13                  app               NaN   \n",
       "1489482  2019-07-28 13:58:17                  app               NaN   \n",
       "1420623  2019-07-04 19:50:09                  app               NaN   \n",
       "2492360  2019-12-17 12:13:32                  app             304.0   \n",
       "1497112  2019-07-13 15:18:31                  app               NaN   \n",
       "\n",
       "         start_station_latitude  start_station_longitude  \\\n",
       "2498952               37.775034              -122.402316   \n",
       "1489482               37.808245              -122.408287   \n",
       "1420623               37.333680              -121.885140   \n",
       "2492360               37.348759              -121.894798   \n",
       "1497112               37.850319              -122.252200   \n",
       "\n",
       "           start_station_name           start_time   user_type  \n",
       "2498952                   NaN  2019-12-19 14:14:04  Subscriber  \n",
       "1489482                   NaN  2019-07-28 13:29:57  Subscriber  \n",
       "1420623                   NaN  2019-07-04 19:45:51  Subscriber  \n",
       "2492360  Jackson St at 5th St  2019-12-17 12:05:57  Subscriber  \n",
       "1497112                   NaN  2019-07-13 15:16:39  Subscriber  "
      ]
     },
     "execution_count": 27,
     "metadata": {},
     "output_type": "execute_result"
    }
   ],
   "source": [
    "# Sample of missing stations\n",
    "\n",
    "fordgo[fordgo.end_station_id.isnull()].sample(5)"
   ]
  },
  {
   "cell_type": "code",
   "execution_count": 28,
   "metadata": {
    "scrolled": false
   },
   "outputs": [
    {
     "data": {
      "text/plain": [
       "Text(0.5, 1.0, 'Not Nulls')"
      ]
     },
     "execution_count": 28,
     "metadata": {},
     "output_type": "execute_result"
    },
    {
     "data": {
      "image/png": "[encoded data removed]",
      "text/plain": [
       "<Figure size 1080x360 with 3 Axes>"
      ]
     },
     "metadata": {
      "needs_background": "light"
     },
     "output_type": "display_data"
    }
   ],
   "source": [
    "# PLot distribution of total rides, distribution of rides when start_station is null distribution of values when start station not null\n",
    "\n",
    "plt.figure(figsize =[15, 5])\n",
    "\n",
    "plt.subplot(1, 3, 1)\n",
    "fordgo_copy.resample('M')['start_station_latitude'].count().plot()\n",
    "plt.title('Baywheels rides')\n",
    "\n",
    "\n",
    "\n",
    "plt.subplot(1, 3, 2)\n",
    "fordgo_copy[fordgo_copy['start_station_id'].isnull()].resample('M')['start_station_latitude'].count().plot()\n",
    "plt.title('Nulls')\n",
    "\n",
    "\n",
    "plt.subplot(1, 3, 3)\n",
    "fordgo_copy[fordgo_copy['start_station_id'].notnull()].resample('M')['start_station_latitude'].count().plot()\n",
    "plt.title('Not Nulls')\n",
    "\n",
    "\n"
   ]
  },
  {
   "cell_type": "code",
   "execution_count": 29,
   "metadata": {
    "scrolled": true
   },
   "outputs": [
    {
     "data": {
      "text/plain": [
       "start_time\n",
       "2019-01-31      248\n",
       "2019-02-28      197\n",
       "2019-03-31      221\n",
       "2019-04-30       64\n",
       "2019-05-31       15\n",
       "2019-06-30     2160\n",
       "2019-07-31    55887\n",
       "2019-08-31        0\n",
       "2019-09-30        0\n",
       "2019-10-31        0\n",
       "2019-11-30      923\n",
       "2019-12-31    21019\n",
       "Freq: M, Name: start_station_longitude, dtype: int64"
      ]
     },
     "execution_count": 29,
     "metadata": {},
     "output_type": "execute_result"
    }
   ],
   "source": [
    "fordgo_copy[fordgo_copy['start_station_id'].isnull()].resample('M')['start_station_longitude'].count()\n"
   ]
  },
  {
   "cell_type": "code",
   "execution_count": 30,
   "metadata": {},
   "outputs": [
    {
     "data": {
      "text/plain": [
       "start_time\n",
       "2019-01-31    192082\n",
       "2019-02-28    183412\n",
       "2019-03-31    256299\n",
       "2019-04-30    239111\n",
       "2019-05-31    182163\n",
       "2019-06-30    191772\n",
       "2019-07-31    258102\n",
       "2019-08-31    210563\n",
       "2019-09-30    217986\n",
       "2019-10-31    239895\n",
       "2019-11-30    185496\n",
       "2019-12-31    150102\n",
       "Freq: M, Name: start_station_longitude, dtype: int64"
      ]
     },
     "execution_count": 30,
     "metadata": {},
     "output_type": "execute_result"
    }
   ],
   "source": [
    "fordgo_copy.resample('M')['start_station_longitude'].count()\n"
   ]
  },
  {
   "cell_type": "markdown",
   "metadata": {},
   "source": [
    "The wrong data is concentrated in the months of **July** and **December** with up to a 20% of total observations missing this values.\n",
    "\n",
    "After some reasearch in internet, we have found that those missing values are not wrong but they are due to the introduction of free floating new E-Bikes in the end of June which were withdrawn in August due to battery problems and reintroduced in December (More details and links of newspapers explaining it below).\n",
    "\n",
    "\n",
    "> At the end of [June and through all July, Lyft introduced stationless e-bikes in San Francisco](https://techcrunch.com/2019/07/21/lyft-e-bikes-san-francisco/) , all those bikes were [retired at the end of July](https://techcrunch.com/2019/07/31/lyft-pulls-e-bikes-in-light-of-apparent-battery-fires/), due to some problem with the batteries. Lyft [reintroduced the e-bikes in December](https://techcrunch.com/2019/12/23/after-battery-fires-lyfts-e-bikes-are-back-in-san-francisco/)\n",
    "\n",
    "We have no way to know if missing bikes in the other months are some kind of tests getting ready for the introduction so we will leave the values like they are"
   ]
  },
  {
   "cell_type": "code",
   "execution_count": null,
   "metadata": {},
   "outputs": [],
   "source": []
  },
  {
   "cell_type": "markdown",
   "metadata": {},
   "source": [
    "\n",
    "#### quality:\n",
    "\n",
    "\n",
    "missing values in\n",
    "- bike_share_for_all_trip  \n",
    "- rental_access_method  \n",
    "\n",
    "- There are missing values as well in the station_id and station_name variables, related to free_floating bikes\n",
    "\n",
    "\n",
    "create new columns_\n",
    "\n",
    "- duration_min\n",
    "\n",
    "Wrong data type:\n",
    "- end_time\n",
    "- start_time\n",
    "- station ids (start and end)\n",
    "\n",
    "different latitude and longitude for the same station\n",
    "\n",
    "\n",
    "\n",
    "#### tidyness:\n",
    "\n",
    "Latitud and longitued in separated cells make us more difficult to asses other station_related problems\n"
   ]
  },
  {
   "cell_type": "markdown",
   "metadata": {},
   "source": [
    "<a id='cleaning'></a>\n",
    "\n",
    "### Cleaning"
   ]
  },
  {
   "cell_type": "code",
   "execution_count": 31,
   "metadata": {},
   "outputs": [],
   "source": [
    "fordgo_clean = fordgo.copy()"
   ]
  },
  {
   "cell_type": "code",
   "execution_count": 32,
   "metadata": {},
   "outputs": [
    {
     "name": "stdout",
     "output_type": "stream",
     "text": [
      "<class 'pandas.core.frame.DataFrame'>\n",
      "RangeIndex: 2506983 entries, 0 to 2506982\n",
      "Data columns (total 15 columns):\n",
      "bike_id                    int64\n",
      "bike_share_for_all_trip    object\n",
      "duration_sec               int64\n",
      "end_station_id             float64\n",
      "end_station_latitude       float64\n",
      "end_station_longitude      float64\n",
      "end_station_name           object\n",
      "end_time                   object\n",
      "rental_access_method       object\n",
      "start_station_id           float64\n",
      "start_station_latitude     float64\n",
      "start_station_longitude    float64\n",
      "start_station_name         object\n",
      "start_time                 object\n",
      "user_type                  object\n",
      "dtypes: float64(6), int64(2), object(7)\n",
      "memory usage: 286.9+ MB\n"
     ]
    }
   ],
   "source": [
    "fordgo_clean.info()"
   ]
  },
  {
   "cell_type": "markdown",
   "metadata": {},
   "source": [
    "**Convert datatypes**\n"
   ]
  },
  {
   "cell_type": "markdown",
   "metadata": {},
   "source": [
    "**Define:**\n",
    "\n",
    " Convert start_time and end_time to datetime"
   ]
  },
  {
   "cell_type": "code",
   "execution_count": 33,
   "metadata": {
    "scrolled": true
   },
   "outputs": [
    {
     "data": {
      "text/html": [
       "<div>\n",
       "<style scoped>\n",
       "    .dataframe tbody tr th:only-of-type {\n",
       "        vertical-align: middle;\n",
       "    }\n",
       "\n",
       "    .dataframe tbody tr th {\n",
       "        vertical-align: top;\n",
       "    }\n",
       "\n",
       "    .dataframe thead th {\n",
       "        text-align: right;\n",
       "    }\n",
       "</style>\n",
       "<table border=\"1\" class=\"dataframe\">\n",
       "  <thead>\n",
       "    <tr style=\"text-align: right;\">\n",
       "      <th></th>\n",
       "      <th>start_time</th>\n",
       "      <th>end_time</th>\n",
       "    </tr>\n",
       "  </thead>\n",
       "  <tbody>\n",
       "    <tr>\n",
       "      <th>1274118</th>\n",
       "      <td>2019-07-26 12:37:11.6150</td>\n",
       "      <td>2019-07-26 12:53:20.0500</td>\n",
       "    </tr>\n",
       "    <tr>\n",
       "      <th>88552</th>\n",
       "      <td>2019-01-21 09:45:13.7240</td>\n",
       "      <td>2019-01-21 10:00:26.4240</td>\n",
       "    </tr>\n",
       "  </tbody>\n",
       "</table>\n",
       "</div>"
      ],
      "text/plain": [
       "                       start_time                  end_time\n",
       "1274118  2019-07-26 12:37:11.6150  2019-07-26 12:53:20.0500\n",
       "88552    2019-01-21 09:45:13.7240  2019-01-21 10:00:26.4240"
      ]
     },
     "execution_count": 33,
     "metadata": {},
     "output_type": "execute_result"
    }
   ],
   "source": [
    "fordgo_clean[['start_time', 'end_time']].sample(2)"
   ]
  },
  {
   "cell_type": "markdown",
   "metadata": {},
   "source": [
    "**Code:**"
   ]
  },
  {
   "cell_type": "code",
   "execution_count": 34,
   "metadata": {
    "scrolled": false
   },
   "outputs": [],
   "source": [
    "# Convert start time y endtime a timestamp\n",
    "\n",
    "fordgo_clean['start_time'] = pd.to_datetime(fordgo_clean['start_time'])\n",
    "\n",
    "fordgo_clean['end_time'] = pd.to_datetime(fordgo_clean['end_time'])\n",
    "\n"
   ]
  },
  {
   "cell_type": "markdown",
   "metadata": {},
   "source": [
    "**Test:**"
   ]
  },
  {
   "cell_type": "code",
   "execution_count": 35,
   "metadata": {},
   "outputs": [
    {
     "data": {
      "text/plain": [
       "1332170   2019-07-15 20:48:33.611\n",
       "118239    2019-01-15 05:24:30.023\n",
       "Name: end_time, dtype: datetime64[ns]"
      ]
     },
     "execution_count": 35,
     "metadata": {},
     "output_type": "execute_result"
    }
   ],
   "source": [
    "fordgo_clean['end_time'].sample(2)"
   ]
  },
  {
   "cell_type": "markdown",
   "metadata": {},
   "source": [
    "**Define:**\n",
    "\n",
    "Convert usertype to ordered categorical dtype"
   ]
  },
  {
   "cell_type": "code",
   "execution_count": 36,
   "metadata": {},
   "outputs": [],
   "source": [
    "# Cuts column ordered categoricalDtype\n",
    "\n",
    "user = ['Customer', 'Subscriber']\n",
    "\n",
    "ordered_user = pd.api.types.CategoricalDtype(ordered = True, categories = user)\n",
    "\n",
    "fordgo_clean.user_type = fordgo_clean.user_type.astype(ordered_user)"
   ]
  },
  {
   "cell_type": "code",
   "execution_count": 37,
   "metadata": {
    "scrolled": true
   },
   "outputs": [
    {
     "data": {
      "text/plain": [
       "1430839   2019-07-26 19:12:17.000\n",
       "1051114   2019-05-01 09:03:29.402\n",
       "Name: start_time, dtype: datetime64[ns]"
      ]
     },
     "execution_count": 37,
     "metadata": {},
     "output_type": "execute_result"
    }
   ],
   "source": [
    "fordgo_clean['start_time'].sample(2)"
   ]
  },
  {
   "cell_type": "markdown",
   "metadata": {},
   "source": [
    ">The alert reader may have noticed that we have not converted the duration_sec column to type Timedelta.\n",
    "\n",
    ">It's more difficult to plot graphs with timedelta than with integers so we've decided to leave the column like this, later we'll create a duration_min column with the duration in minutes"
   ]
  },
  {
   "cell_type": "markdown",
   "metadata": {},
   "source": [
    "#### Drop wrong columns\n",
    "\n"
   ]
  },
  {
   "cell_type": "code",
   "execution_count": 38,
   "metadata": {},
   "outputs": [
    {
     "data": {
      "text/plain": [
       "Index(['bike_id', 'bike_share_for_all_trip', 'duration_sec', 'end_station_id',\n",
       "       'end_station_latitude', 'end_station_longitude', 'end_station_name',\n",
       "       'end_time', 'rental_access_method', 'start_station_id',\n",
       "       'start_station_latitude', 'start_station_longitude',\n",
       "       'start_station_name', 'start_time', 'user_type'],\n",
       "      dtype='object')"
      ]
     },
     "execution_count": 38,
     "metadata": {},
     "output_type": "execute_result"
    }
   ],
   "source": [
    "fordgo_clean.columns"
   ]
  },
  {
   "cell_type": "markdown",
   "metadata": {},
   "source": [
    "**Define:**\n",
    "\n",
    "There are two columns whose information is incomplete and don't give any new insight so we will drop them:\n",
    "- bike_share_for_all_trip\n",
    "- rental_access_method"
   ]
  },
  {
   "cell_type": "markdown",
   "metadata": {},
   "source": [
    "**Code:**"
   ]
  },
  {
   "cell_type": "code",
   "execution_count": 39,
   "metadata": {},
   "outputs": [],
   "source": [
    "fordgo_clean.drop(['bike_share_for_all_trip', 'rental_access_method'], axis = 1, inplace = True)"
   ]
  },
  {
   "cell_type": "markdown",
   "metadata": {},
   "source": [
    "**Test:**"
   ]
  },
  {
   "cell_type": "code",
   "execution_count": 40,
   "metadata": {
    "scrolled": true
   },
   "outputs": [
    {
     "data": {
      "text/plain": [
       "Index(['bike_id', 'duration_sec', 'end_station_id', 'end_station_latitude',\n",
       "       'end_station_longitude', 'end_station_name', 'end_time',\n",
       "       'start_station_id', 'start_station_latitude', 'start_station_longitude',\n",
       "       'start_station_name', 'start_time', 'user_type'],\n",
       "      dtype='object')"
      ]
     },
     "execution_count": 40,
     "metadata": {},
     "output_type": "execute_result"
    }
   ],
   "source": [
    "fordgo_clean.columns"
   ]
  },
  {
   "cell_type": "markdown",
   "metadata": {},
   "source": [
    "***Create a minutes column***\n",
    "\n",
    "On the begining we thought about converting the duration_sec column to timedelta type. That will make it more difficult for us to plot it so we will just leave it as it is, instead, we are going to create a duration_min column to make easier to understand our work.\n"
   ]
  },
  {
   "cell_type": "markdown",
   "metadata": {},
   "source": [
    "**Define:**\n",
    "\n",
    "Create a duration_min column dividing duration_sec by 60"
   ]
  },
  {
   "cell_type": "markdown",
   "metadata": {},
   "source": [
    "**Code:**"
   ]
  },
  {
   "cell_type": "code",
   "execution_count": 41,
   "metadata": {},
   "outputs": [],
   "source": [
    "fordgo_clean['duration_min'] = fordgo_clean['duration_sec'] /60 "
   ]
  },
  {
   "cell_type": "markdown",
   "metadata": {},
   "source": [
    "**Test:**"
   ]
  },
  {
   "cell_type": "code",
   "execution_count": 42,
   "metadata": {
    "scrolled": true
   },
   "outputs": [
    {
     "data": {
      "text/html": [
       "<div>\n",
       "<style scoped>\n",
       "    .dataframe tbody tr th:only-of-type {\n",
       "        vertical-align: middle;\n",
       "    }\n",
       "\n",
       "    .dataframe tbody tr th {\n",
       "        vertical-align: top;\n",
       "    }\n",
       "\n",
       "    .dataframe thead th {\n",
       "        text-align: right;\n",
       "    }\n",
       "</style>\n",
       "<table border=\"1\" class=\"dataframe\">\n",
       "  <thead>\n",
       "    <tr style=\"text-align: right;\">\n",
       "      <th></th>\n",
       "      <th>duration_min</th>\n",
       "      <th>duration_sec</th>\n",
       "    </tr>\n",
       "  </thead>\n",
       "  <tbody>\n",
       "    <tr>\n",
       "      <th>1131487</th>\n",
       "      <td>5.066667</td>\n",
       "      <td>304</td>\n",
       "    </tr>\n",
       "    <tr>\n",
       "      <th>2263839</th>\n",
       "      <td>8.533333</td>\n",
       "      <td>512</td>\n",
       "    </tr>\n",
       "  </tbody>\n",
       "</table>\n",
       "</div>"
      ],
      "text/plain": [
       "         duration_min  duration_sec\n",
       "1131487      5.066667           304\n",
       "2263839      8.533333           512"
      ]
     },
     "execution_count": 42,
     "metadata": {},
     "output_type": "execute_result"
    }
   ],
   "source": [
    "fordgo_clean[['duration_min', 'duration_sec']].sample(2)"
   ]
  },
  {
   "cell_type": "markdown",
   "metadata": {},
   "source": [
    "### What is the structure of your dataset?\n",
    "\n",
    ">  The dataset consists in 2,506,983 individual travels described in 14 observations.\n",
    "\n",
    "### What is/are the main feature(s) of interest in your dataset?\n",
    "\n",
    "> We are interested in knowing the usage patterns of Bay Wheels users in San Francisco. When, how  and how much they use the service.\n",
    "\n",
    "### What features in the dataset do you think will help support your investigation into your feature(s) of interest?\n",
    "\n",
    "> We will mostly work with duration_min, start_time and user_type variables."
   ]
  },
  {
   "cell_type": "code",
   "execution_count": 43,
   "metadata": {},
   "outputs": [
    {
     "name": "stdout",
     "output_type": "stream",
     "text": [
      "<class 'pandas.core.frame.DataFrame'>\n",
      "RangeIndex: 2506983 entries, 0 to 2506982\n",
      "Data columns (total 14 columns):\n",
      "bike_id                    int64\n",
      "duration_sec               int64\n",
      "end_station_id             float64\n",
      "end_station_latitude       float64\n",
      "end_station_longitude      float64\n",
      "end_station_name           object\n",
      "end_time                   datetime64[ns]\n",
      "start_station_id           float64\n",
      "start_station_latitude     float64\n",
      "start_station_longitude    float64\n",
      "start_station_name         object\n",
      "start_time                 datetime64[ns]\n",
      "user_type                  category\n",
      "duration_min               float64\n",
      "dtypes: category(1), datetime64[ns](2), float64(7), int64(2), object(2)\n",
      "memory usage: 251.0+ MB\n"
     ]
    }
   ],
   "source": [
    "fordgo_clean.info()"
   ]
  },
  {
   "cell_type": "markdown",
   "metadata": {},
   "source": [
    "<a id='univariate'></a>\n",
    "\n",
    "\n",
    "## Univariate Exploration\n",
    "\n",
    "We will first analyze the variables of interest separately.\n",
    "\n",
    "We want to know the distribution in our dataset of the following variables:\n",
    "\n",
    "User type, trip duration, starting time and yearly fluctuations in usage.\n"
   ]
  },
  {
   "cell_type": "markdown",
   "metadata": {},
   "source": [
    "**How many rides are attributed to each user type?**\n",
    "\n",
    "There are two user type segments:\n",
    "\n",
    "Customer  --> This is a casual user.\n",
    "\n",
    "Subscriber --> This is somebody who is paying for a monthly membership.\n",
    "\n",
    "We would like to know which group has used our bikes the most:"
   ]
  },
  {
   "cell_type": "code",
   "execution_count": 44,
   "metadata": {},
   "outputs": [
    {
     "data": {
      "text/plain": [
       "''"
      ]
     },
     "execution_count": 44,
     "metadata": {},
     "output_type": "execute_result"
    },
    {
     "data": {
      "image/png": "[encoded data removed]",
      "text/plain": [
       "<Figure size 1080x504 with 1 Axes>"
      ]
     },
     "metadata": {
      "needs_background": "light"
     },
     "output_type": "display_data"
    }
   ],
   "source": [
    "# Bar Plot showing rides by user type\n",
    "plt.figure(figsize=[15, 7]).tight_layout(pad=10.0)\n",
    "\n",
    "sb.countplot(data= fordgo_clean, x='user_type')\n",
    "\n",
    "plt.title('Rides by User Type', weight='bold', size=12)\n",
    "\n",
    "plt.ylabel('User Type', labelpad=10, weight='bold', size=12)\n",
    "\n",
    "plt.xlabel('Total Rides', labelpad=10, weight='bold', size=12)\n",
    ";"
   ]
  },
  {
   "cell_type": "markdown",
   "metadata": {},
   "source": [
    "80% of the rides in our data are attributed to the 'Subscriber' segment."
   ]
  },
  {
   "cell_type": "markdown",
   "metadata": {},
   "source": [
    "**How long does the typical ride last?**\n",
    "\n",
    "Does the typical user wander around the city for hours, or does he commute to work 4 blocks away?\n",
    "\n"
   ]
  },
  {
   "cell_type": "code",
   "execution_count": 45,
   "metadata": {},
   "outputs": [],
   "source": [
    "# Convert duration_min Series to a numpy array to speed up the plotting process\n",
    "duration_array = np.array(fordgo_clean.duration_min)\n",
    "\n",
    "\n"
   ]
  },
  {
   "cell_type": "code",
   "execution_count": 46,
   "metadata": {
    "scrolled": false
   },
   "outputs": [
    {
     "data": {
      "image/png": "[encoded data removed]",
      "text/plain": [
       "<Figure size 1080x504 with 1 Axes>"
      ]
     },
     "metadata": {
      "needs_background": "light"
     },
     "output_type": "display_data"
    }
   ],
   "source": [
    "#Plot histogram to see the frecuency of travel duration\n",
    "plt.figure(figsize=[15, 7]).tight_layout(pad=10.0)\n",
    "\n",
    "bin_edges = np.arange(0, 100, 0.5)\n",
    "\n",
    "plt.hist(duration_array, bins= bin_edges)\n",
    "\n",
    "plt.axvline(np.median(duration_array), color='r')\n",
    "\n",
    "\n",
    "plt.axvline(np.quantile(duration_array, 0.95), color='g')\n",
    "\n",
    "plt.title('Frequency of Ride Duration (up to 100 minutes)', pad=10, weight='bold')\n",
    "\n",
    "plt.xlabel('Duration of Ride in Minutes', labelpad=10, weight='bold')\n",
    "\n",
    "plt.ylabel('Number of Rides', labelpad=10, weight='bold')\n",
    "\n",
    "plt.xticks([0,10,20,30,40,50,60,70, 80,90,100])\n",
    "plt.xlim(0 ,100)\n",
    "\n",
    "plt.legend(['Median', '95th percentile']);"
   ]
  },
  {
   "cell_type": "markdown",
   "metadata": {},
   "source": [
    "It seems that trips are usually short.\n",
    "\n",
    "The most common trip lasts about 8 minutes and half of the trips are shorter than 10 minutes. We can also see that 95% of the time, the bikes are rented for less than half an hour.\n",
    "\n",
    "There is however a long tail of outliers, what has a strong effect in the centre measure (The median is around 10 minutes while the mean is more than 13 minutes, at the same level than the 70th percentile."
   ]
  },
  {
   "cell_type": "markdown",
   "metadata": {},
   "source": [
    "**How is the frequency distribution of rides which are longer than 30 minutes?**\n",
    "\n",
    "As we saw in the graph above, the overwhelming majority of trips are less than 30 minutes long, there is however a long tail extending further right that we cannot appreciate due to the huge size of the curve belong 30 minutes. \n",
    "\n",
    "We want to plot frequencies above 50 minutes and below 200 minutes to know if they form a decreasing and continuous tail,  or on the contrary, consist of isolated values."
   ]
  },
  {
   "cell_type": "code",
   "execution_count": 47,
   "metadata": {
    "scrolled": false
   },
   "outputs": [
    {
     "data": {
      "image/png": "[encoded data removed]",
      "text/plain": [
       "<Figure size 1080x504 with 1 Axes>"
      ]
     },
     "metadata": {
      "needs_background": "light"
     },
     "output_type": "display_data"
    }
   ],
   "source": [
    "#Plot histogram to see the frecuency of travel duration\n",
    "plt.figure(figsize=[15, 7]).tight_layout(pad=10.0)\n",
    "\n",
    "bin_edges = np.arange(50, 200 +0.5, 0.5)\n",
    "\n",
    "plt.hist(duration_array, bins= bin_edges)\n",
    "\n",
    "plt.axvline(duration_array.mean(), color='r')\n",
    "\n",
    "plt.axvline(np.median(duration_array), color='y')\n",
    "\n",
    "plt.axvline(np.quantile(duration_array, 0.95), color='g')\n",
    "\n",
    "plt.title('Frequency of Ride Duration (50 to 200 minutes)', pad=10, weight='bold')\n",
    "\n",
    "plt.xlabel('Duration of Ride in Minutes', labelpad=10, weight='bold')\n",
    "\n",
    "plt.ylabel('Number of Rides', labelpad=10, weight='bold')\n",
    "\n",
    "plt.xticks([50, 60, 70,80, 90,  100,110,120,130,140,150,160,170, 180,190,200])\n",
    "plt.xlim(50, 200);"
   ]
  },
  {
   "cell_type": "markdown",
   "metadata": {},
   "source": [
    "Trips of more than 50 minutes - which make up about 1% of the data - are distributed evenly across the graph, forming a long tail that gradually narrows."
   ]
  },
  {
   "cell_type": "markdown",
   "metadata": {},
   "source": [
    "**How is the frequency distribution of rides which are longer than 200 minutes?**\n",
    "\n",
    "The previous graph only showed the frequency distribution of trips of up to 200 minutes. Now we want to see if the frequencies of trips longer than 200 minutes - 0.20% of the data - are distributed evenly up to the highest value."
   ]
  },
  {
   "cell_type": "code",
   "execution_count": 48,
   "metadata": {},
   "outputs": [
    {
     "data": {
      "image/png": "[encoded data removed]",
      "text/plain": [
       "<Figure size 1080x504 with 1 Axes>"
      ]
     },
     "metadata": {
      "needs_background": "light"
     },
     "output_type": "display_data"
    }
   ],
   "source": [
    "#Plot histogram to see the frecuency of travel duration\n",
    "plt.figure(figsize=[15, 7]).tight_layout(pad=10.0)\n",
    "\n",
    "\n",
    "bin_edges = np.arange(200, 1440 +5, 1)\n",
    "\n",
    "plt.hist(duration_array, bins= bin_edges)\n",
    "\n",
    "plt.title('Frequency of Ride Duration (200 min to 24 hours)', pad=10, weight='bold')\n",
    "\n",
    "plt.xlabel('Duration of Ride in Minutes', labelpad=10, weight='bold')\n",
    "\n",
    "plt.ylabel('Number of Rides', labelpad=10, weight='bold')\n",
    "\n",
    "plt.xlim(200, 1445);"
   ]
  },
  {
   "cell_type": "markdown",
   "metadata": {},
   "source": [
    "We can say that frequencies above 200 minutes form a continuous narrowing line which reaches until the 1440 minutes value (24 hours)\n",
    "\n",
    "After that line, there is only one data point, a 10 days rental that we will delete"
   ]
  },
  {
   "cell_type": "markdown",
   "metadata": {},
   "source": [
    "**Delete the last data point**"
   ]
  },
  {
   "cell_type": "code",
   "execution_count": 49,
   "metadata": {
    "scrolled": true
   },
   "outputs": [
    {
     "data": {
      "text/html": [
       "<div>\n",
       "<style scoped>\n",
       "    .dataframe tbody tr th:only-of-type {\n",
       "        vertical-align: middle;\n",
       "    }\n",
       "\n",
       "    .dataframe tbody tr th {\n",
       "        vertical-align: top;\n",
       "    }\n",
       "\n",
       "    .dataframe thead th {\n",
       "        text-align: right;\n",
       "    }\n",
       "</style>\n",
       "<table border=\"1\" class=\"dataframe\">\n",
       "  <thead>\n",
       "    <tr style=\"text-align: right;\">\n",
       "      <th></th>\n",
       "      <th>bike_id</th>\n",
       "      <th>duration_sec</th>\n",
       "      <th>end_station_id</th>\n",
       "      <th>end_station_latitude</th>\n",
       "      <th>end_station_longitude</th>\n",
       "      <th>end_station_name</th>\n",
       "      <th>end_time</th>\n",
       "      <th>start_station_id</th>\n",
       "      <th>start_station_latitude</th>\n",
       "      <th>start_station_longitude</th>\n",
       "      <th>start_station_name</th>\n",
       "      <th>start_time</th>\n",
       "      <th>user_type</th>\n",
       "      <th>duration_min</th>\n",
       "    </tr>\n",
       "  </thead>\n",
       "  <tbody>\n",
       "    <tr>\n",
       "      <th>2481276</th>\n",
       "      <td>614329</td>\n",
       "      <td>912110</td>\n",
       "      <td>NaN</td>\n",
       "      <td>37.327656</td>\n",
       "      <td>-121.868598</td>\n",
       "      <td>NaN</td>\n",
       "      <td>2019-12-30 12:37:26</td>\n",
       "      <td>NaN</td>\n",
       "      <td>37.323757</td>\n",
       "      <td>-121.878614</td>\n",
       "      <td>NaN</td>\n",
       "      <td>2019-12-19 23:15:36</td>\n",
       "      <td>Customer</td>\n",
       "      <td>15201.833333</td>\n",
       "    </tr>\n",
       "  </tbody>\n",
       "</table>\n",
       "</div>"
      ],
      "text/plain": [
       "         bike_id  duration_sec  end_station_id  end_station_latitude  \\\n",
       "2481276   614329        912110             NaN             37.327656   \n",
       "\n",
       "         end_station_longitude end_station_name            end_time  \\\n",
       "2481276            -121.868598              NaN 2019-12-30 12:37:26   \n",
       "\n",
       "         start_station_id  start_station_latitude  start_station_longitude  \\\n",
       "2481276               NaN               37.323757              -121.878614   \n",
       "\n",
       "        start_station_name          start_time user_type  duration_min  \n",
       "2481276                NaN 2019-12-19 23:15:36  Customer  15201.833333  "
      ]
     },
     "execution_count": 49,
     "metadata": {},
     "output_type": "execute_result"
    }
   ],
   "source": [
    "# Show observation with duration min longer than 24 hours\n",
    "fordgo_clean[fordgo_clean.duration_min > 1440]"
   ]
  },
  {
   "cell_type": "code",
   "execution_count": 50,
   "metadata": {
    "scrolled": true
   },
   "outputs": [
    {
     "data": {
      "text/plain": [
       "Int64Index([], dtype='int64')"
      ]
     },
     "execution_count": 50,
     "metadata": {},
     "output_type": "execute_result"
    }
   ],
   "source": [
    "# Drop Rows with duration_min bigger than 24 hours\n",
    "fordgo_clean.drop(fordgo_clean[fordgo_clean.duration_min > 1440].index, inplace = True)\n",
    "fordgo_clean[fordgo_clean.duration_min > 1440].index"
   ]
  },
  {
   "cell_type": "markdown",
   "metadata": {},
   "source": [
    "**How is the duration distributed?**\n",
    "\n",
    "In the previous charts, we saw that the frequency distribution showed a big concentration of short rides and a long tail of longer ones.\n",
    "\n",
    "We would like to know how are the rides distributed in three different segments:\n",
    "\n",
    "- Shorter than 15 min\n",
    "- Between 15 min and half an hour\n",
    "- Longer than 30 min"
   ]
  },
  {
   "cell_type": "code",
   "execution_count": 51,
   "metadata": {
    "scrolled": true
   },
   "outputs": [
    {
     "data": {
      "text/plain": [
       "0    more than 30 min\n",
       "1    more than 30 min\n",
       "2    more than 30 min\n",
       "3    more than 30 min\n",
       "4    more than 30 min\n",
       "Name: duration_period, dtype: category\n",
       "Categories (3, object): [less than 15 m < 15 to 30 min < more than 30 min]"
      ]
     },
     "execution_count": 51,
     "metadata": {},
     "output_type": "execute_result"
    }
   ],
   "source": [
    "# Create column \n",
    "bin_names = ['less than 15 m', '15 to 30 min', 'more than 30 min']\n",
    "\n",
    "bin_edges = [0, 15, 30, fordgo_clean['duration_min'].max()]\n",
    "\n",
    "fordgo_clean['duration_period'] = pd.cut(fordgo_clean['duration_min'], bin_edges, labels=bin_names)\n",
    "\n",
    "fordgo_clean['duration_period'].head(5)"
   ]
  },
  {
   "cell_type": "code",
   "execution_count": 52,
   "metadata": {
    "scrolled": true
   },
   "outputs": [
    {
     "data": {
      "image/png": "[encoded data removed]",
      "text/plain": [
       "<Figure size 1080x504 with 1 Axes>"
      ]
     },
     "metadata": {},
     "output_type": "display_data"
    }
   ],
   "source": [
    "# Pie chart of travel duration categories\n",
    "\n",
    "plt.figure(figsize=[15, 7]).tight_layout(pad=10.0)\n",
    "sorted_counts = fordgo_clean['duration_period'].value_counts()\n",
    "\n",
    "plt.pie(sorted_counts, labels = sorted_counts.index, startangle = 90,\n",
    "        counterclock = False, autopct='%1.0f%%')\n",
    "\n",
    "plt.title('Travel Duration', pad=10, weight='bold');"
   ]
  },
  {
   "cell_type": "markdown",
   "metadata": {},
   "source": [
    "76 % of the rides are shorter than 15 minuties, 20% of them are between 15 min and half an hour and only 5% of them are longer than half an hour."
   ]
  },
  {
   "cell_type": "markdown",
   "metadata": {},
   "source": [
    "**At what hour are bikes rented?**\n",
    "\n",
    "The short duration of the average trip makes us think that most travelers want to move from A to B in the shortest time possible.  These usage patterns may be related to people using Bay Wheels to go to work or college —rather than taking long recreational rides—, let's see if we can confirm this insight analyzing the start_time of the rides."
   ]
  },
  {
   "cell_type": "code",
   "execution_count": 53,
   "metadata": {
    "scrolled": false
   },
   "outputs": [
    {
     "data": {
      "text/plain": [
       "start_time\n",
       "0    14686\n",
       "1     8788\n",
       "2     5682\n",
       "3     2779\n",
       "4     3442\n",
       "Name: start_station_longitude, dtype: int64"
      ]
     },
     "execution_count": 53,
     "metadata": {},
     "output_type": "execute_result"
    }
   ],
   "source": [
    "# Create new DataFrame grouped by hour of the day.\n",
    "\n",
    "fordgo_clean_startind = fordgo_clean.set_index('start_time')\n",
    "fg_hour_of_day = fordgo_clean_startind.groupby(fordgo_clean_startind.index.hour).count()['start_station_longitude']\n",
    "fg_hour_of_day.head()"
   ]
  },
  {
   "cell_type": "code",
   "execution_count": 54,
   "metadata": {
    "scrolled": false
   },
   "outputs": [
    {
     "data": {
      "image/png": "[encoded data removed]",
      "text/plain": [
       "<Figure size 720x360 with 1 Axes>"
      ]
     },
     "metadata": {
      "needs_background": "light"
     },
     "output_type": "display_data"
    }
   ],
   "source": [
    "# Plot Journeys by Starting time\n",
    "\n",
    "fg_hour_of_day.plot(figsize=[10,5])\n",
    "\n",
    "plt.title('Journeys by Starting Time', pad=10, weight='bold')\n",
    "\n",
    "plt.xlabel('Hour of the Day',labelpad=10, weight='bold')\n",
    "\n",
    "plt.ylabel('# of Rides', labelpad=10, weight='bold')\n",
    "\n",
    "plt.grid()\n",
    "\n",
    "plt.xticks(np.arange(0, 24, 1));"
   ]
  },
  {
   "cell_type": "markdown",
   "metadata": {},
   "source": [
    "\n",
    "As expected, the graph shows a bimodal behaviour, with one peak in the morning and another in the evening, suggesting work/school/college entry and exit times."
   ]
  },
  {
   "cell_type": "markdown",
   "metadata": {},
   "source": [
    "\n",
    "**How do rentals distribute across the year?**\n",
    "\n",
    "We already know that the standard ride is short —15 min— and happens between 7 AM and 20 PM –rush hours at  8 AM and 17 PM— but, do they happen uniformly throughout the year?\n",
    "\n",
    "In a colder city, we would expect bike travels dramatically decreasing in winter. Does it happen in San Francisco?"
   ]
  },
  {
   "cell_type": "code",
   "execution_count": 55,
   "metadata": {
    "scrolled": false
   },
   "outputs": [],
   "source": [
    "# Resample data by month and get the total frequency\n",
    "\n",
    "fordgo_monthly_count = fordgo_clean.set_index('start_time').resample('M')['duration_min'].count() \n"
   ]
  },
  {
   "cell_type": "code",
   "execution_count": 56,
   "metadata": {
    "scrolled": true
   },
   "outputs": [
    {
     "data": {
      "image/png": "[encoded data removed]",
      "text/plain": [
       "<Figure size 720x360 with 1 Axes>"
      ]
     },
     "metadata": {
      "needs_background": "light"
     },
     "output_type": "display_data"
    }
   ],
   "source": [
    "# Number of Rentals by Month\n",
    "\n",
    "\n",
    "plt.figure(figsize=[10,5])\n",
    "\n",
    "fordgo_monthly_count.plot()\n",
    "plt.title('Number of Rentals by Month',pad=10, weight='bold', size=12)\n",
    "plt.xlabel('Month', labelpad=10, weight='bold', size=12)\n",
    "plt.ylabel('# of Rental', labelpad=10, weight='bold', size=12)\n",
    "plt.axhline(fordgo_monthly_count.mean(), color ='r')\n",
    "plt.subplots_adjust(left=0, right=1)\n",
    "\n",
    "plt.legend(['Monthly Rentals', 'Yearly Mean', ]);\n"
   ]
  },
  {
   "cell_type": "markdown",
   "metadata": {},
   "source": [
    "The result is not what we expected. There are lows in Jan-Feb, May-June and Nov-Dec. It makes sense a decrease in winter months but that doesn't explain the huge drop in May-June.\n",
    "\n",
    "After small research on the internet we found reasons which might explain what happened: \n",
    "- **Rebranding:** [Ford Go became Bay Wheels in June](https://techcrunch.com/2019/06/11/lyft-deploys-its-pink-wheeled-bikes-and-rebrands-ford-gobike-as-bay-wheels/)\n",
    "\n",
    "- **Worst weather conditions**: apparently  [last May rained more than usual in San Francisco](https://www.sfgate.com/weather/article/san-francisco-bay-area-rain-storm-may-records-13853312.php),  [much more](https://www.sfgate.com/weather/article/May-San-Francisco-rainfall-total-above-average-13858927.php)\n",
    "- **Lyft retired in April docked E-Bikes**: that caused an [availability issue](https://techcrunch.com/2019/07/21/lyft-e-bikes-san-francisco/). According to the [SFMTA (San Francisco Municipal Transportation Agency)](https://www.sfmta.com/blog/bike-share-update-bringing-back-reliable-service):\n",
    "> “These new bikes will allow Lyft to address the severe bicycle availability issues that Bay Wheels has faced since Lyft removed e-bikes from service in April.” \n",
    "\n",
    "On the other hand, the peak in July is explained by the introduction of dockless e-Bikes and the big decrease in August is explained by the [withdrawal of those same e-bikes due to malfunctioning of batteries](https://www.theverge.com/2019/7/31/20749396/lyft-electric-bikes-pulled-san-francisco-battery-fires-motivate-bay-wheels)"
   ]
  },
  {
   "cell_type": "markdown",
   "metadata": {},
   "source": [
    "### Discuss the distribution(s) of your variable(s) of interest. Were there any unusual points? Did you need to perform any transformations?\n",
    "\n",
    "> Most of the users are a subscriber and it is clear that the vast majority of the rides are purpose-related (get from A to B)  short rides,  50% of rides are shorter than 10 minutes and 95% of them are shorter than half-hour. The remaining 5% of them are a myriad of values descending in frequency, ranging from 30 minutes (the most) to the last one which is scratching the 24-hour barrier. Most travels happen around two peaks, one in the morning as people go to work (8 AM) and one in the evening (17 PM) as people leaves. Mean monthly rides are around 210,000 trips but this number fluctuates throughout the year\n"
   ]
  },
  {
   "cell_type": "markdown",
   "metadata": {},
   "source": [
    "<a id='bivariate'></a>\n",
    "\n",
    "\n",
    "## Bivariate Exploration\n",
    "\n",
    "> We already know how our variables of interest behave separately. How do they behave together?\n",
    "> Does the duration of the trips change depending on the month or the type of user? What are the most common duration and frequency?"
   ]
  },
  {
   "cell_type": "markdown",
   "metadata": {},
   "source": [
    "**Does the ride duration change during the year?**\n",
    "\n",
    "The travel duration might be a clear indication of weather effects in bike rental. In a not so cold city as San Francisco, short commuting travels might stay relatively stable,  however, longer pleasure rides should diminish, lowering the mean travel time.\n",
    "\n",
    "On the other hand, we don't know how might these measures be affected by the introduction and withdrawal of the stationless e-bikes."
   ]
  },
  {
   "cell_type": "code",
   "execution_count": 57,
   "metadata": {
    "scrolled": true
   },
   "outputs": [],
   "source": [
    "# Resample data by month and get the average median duration in minutes\n",
    "\n",
    "fordgo_monthly_dmean = fordgo_clean.set_index('start_time').resample('M')['duration_min'].mean() \n",
    "fordgo_monthly_dmedian = fordgo_clean.set_index('start_time').resample('M')['duration_min'].median() "
   ]
  },
  {
   "cell_type": "code",
   "execution_count": 58,
   "metadata": {
    "scrolled": false
   },
   "outputs": [
    {
     "data": {
      "image/png": "[encoded data removed]",
      "text/plain": [
       "<Figure size 1080x504 with 2 Axes>"
      ]
     },
     "metadata": {
      "needs_background": "light"
     },
     "output_type": "display_data"
    }
   ],
   "source": [
    "# Mean and Median Rental Duration\n",
    "\n",
    "plt.figure(figsize=[15, 7]).tight_layout(pad=10.0)\n",
    "\n",
    "\n",
    "plt.subplot(1,2,1)\n",
    "fordgo_monthly_dmean.plot()\n",
    "\n",
    "plt.title('Mean Travel Duration by Month',pad=10, weight='bold', size=12)\n",
    "plt.xlabel('Month', labelpad=10, weight='bold', size=12)\n",
    "plt.ylabel('Average Minutes per Rental', labelpad=10, weight='bold', size=12)\n",
    "plt.subplots_adjust(left=0, right=1)\n",
    "\n",
    "\n",
    "plt.subplot(1,2,2)\n",
    "\n",
    "fordgo_monthly_dmedian.plot()\n",
    "\n",
    "plt.title('Median Travel Duration by Month',pad=10, weight='bold', size=12)\n",
    "plt.xlabel('Month', labelpad=10, weight='bold', size=12)\n",
    "plt.ylabel('Median Minutes per Rental', labelpad=10, weight='bold', size=12)\n",
    "plt.subplots_adjust(left=0, right=1)\n"
   ]
  },
  {
   "cell_type": "markdown",
   "metadata": {},
   "source": [
    "\n",
    "As we imagined, both graphs indicate lower values for the winter months and higher values for the warmer ones. \n",
    "\n",
    "The use of the bicycle is strongly dependent on the weather: in colder months, the bicycle is used just for practical purposes (commuting, going to the gym, etc.) while in summer, the distance for utilitarian travels expands ( i.e. visit your grandma who lives in the other side of the city) and also appears the leisure use (such as going for a ride along the seashore).\n",
    "\n",
    "As well, we can glimpse the consequences of the introduction and later withdrawal of Dockless E-Bikes by looking at the peak and fall that occurs between June and August.\n",
    "\n",
    "It is interesting to see that the turbulence of May we talked about above, had a stronger effect on the average, which falls half a minute compared to March, than on the median, which simply reduces its growth trend. This indicates a reduction in our long-tail of outliers (travels which take longer than an hour)"
   ]
  },
  {
   "cell_type": "code",
   "execution_count": null,
   "metadata": {},
   "outputs": [],
   "source": []
  },
  {
   "cell_type": "markdown",
   "metadata": {},
   "source": [
    "**Travel Duration by user type**\n",
    "\n",
    "We already know that subscribers account for 80% of all rides, we know as well that the median travel time for all users is less 10 minutes and that most travels occur at commuting times.\n",
    "\n",
    "Now we would like to know if the user type has some impact on the way how the bikes are used. We think that people that regularly use our bikes to commute are subscribers and thus, being commute travels shorter as pleasure ones, we could imagine that "
   ]
  },
  {
   "cell_type": "code",
   "execution_count": 59,
   "metadata": {
    "scrolled": false
   },
   "outputs": [
    {
     "data": {
      "image/png": "[encoded data removed]",
      "text/plain": [
       "<Figure size 720x360 with 1 Axes>"
      ]
     },
     "metadata": {
      "needs_background": "light"
     },
     "output_type": "display_data"
    }
   ],
   "source": [
    "# Customer Type Analysis\n",
    "\n",
    "plt.figure(figsize=[10, 5]).tight_layout(pad=10.0)\n",
    "\n",
    "sb.boxplot(data = fordgo_clean, x = 'user_type', y = 'duration_min' )\n",
    "\n",
    "plt.title('Rental Duration per Customer Type',pad=10, weight='bold', size=12)\n",
    "\n",
    "plt.ylabel('Minutes', labelpad=10, weight='bold', size=12)\n",
    "\n",
    "plt.xlabel('Customer Type', labelpad=10, weight='bold', size=12)\n",
    "\n",
    "plt.ylim(0,45);\n"
   ]
  },
  {
   "cell_type": "markdown",
   "metadata": {},
   "source": [
    "We can see that althought customer rides account for 1/5 of the total rides, the ride duration tend to be much larger for customers than for subscribers.\n"
   ]
  },
  {
   "cell_type": "code",
   "execution_count": null,
   "metadata": {},
   "outputs": [],
   "source": []
  },
  {
   "cell_type": "markdown",
   "metadata": {},
   "source": [
    "**What are the most common start_hour and duration for a ride?**\n",
    "\n",
    "We already know that:\n",
    "\n",
    "a) Trips are usually short and\n",
    "\n",
    "b) Most of it occurs at rush hour.\n",
    "\n",
    "What are the most common joint duration and start hour? We imagine that the most common ride will fall inside the two previously named scenarios, but we are sure that there will be a difference depending on the day of the week."
   ]
  },
  {
   "cell_type": "code",
   "execution_count": 60,
   "metadata": {},
   "outputs": [],
   "source": [
    "#  Create business_weekday column with values Workday / Weekend\n",
    "\n",
    "weekday_bins = ['Workday', 'Weekend'] \n",
    "\n",
    "weekday_edges = [-1, 4, 6]\n",
    "\n",
    "fordgo_clean['business_weekday'] = pd.cut(fordgo_clean.start_time.dt.weekday, bins=weekday_edges, labels=weekday_bins)\n",
    "\n",
    "# Create a start_hour column\n",
    "\n",
    "fordgo_clean['start_hour'] = fordgo_clean.start_time.dt.hour\n"
   ]
  },
  {
   "cell_type": "code",
   "execution_count": 61,
   "metadata": {
    "scrolled": true
   },
   "outputs": [
    {
     "data": {
      "image/png": "[encoded data removed]",
      "text/plain": [
       "<Figure size 864x360 with 4 Axes>"
      ]
     },
     "metadata": {
      "needs_background": "light"
     },
     "output_type": "display_data"
    }
   ],
   "source": [
    "# Plot two heatmaps to express the most common relations between duration and start_hour: one of workdays and one of weekends\n",
    "\n",
    "\n",
    "plt.figure(figsize=[12,5]).tight_layout(pad=20.0)\n",
    "\n",
    "\n",
    "# Plot Workday hours/duration heatmap\n",
    "\n",
    "\n",
    "plt.subplot(1,2,1)\n",
    "\n",
    "plt.hist2d(fordgo_clean[fordgo_clean.business_weekday == 'Workday'].start_time.dt.hour, fordgo_clean[fordgo_clean.business_weekday == 'Workday'].duration_min,[24,60], [[0,24],[0,60]] )\n",
    "\n",
    "plt.xlabel('Hours of the Day', labelpad=10, weight='bold', size=12)\n",
    "plt.ylabel('Duration in Minutes', labelpad=10, weight='bold', size=12)\n",
    "\n",
    "plt.title('Hours of the Day / Duration in Workdays', pad=10, weight='bold', size=12)\n",
    "\n",
    "plt.colorbar()\n",
    "\n",
    "# Plot Weekend hours/duration heatmap\n",
    "plt.subplot(1,2,2)\n",
    "\n",
    "plt.hist2d(fordgo_clean[fordgo_clean.business_weekday == 'Weekend'].start_time.dt.hour, fordgo_clean[fordgo_clean.business_weekday == 'Weekend'].duration_min,[24,60], [[0,24],[0,60]] )\n",
    "\n",
    "plt.xlabel('Hours of the Day', labelpad=10, weight='bold', size=12)\n",
    "plt.ylabel('Duration in Minutes', labelpad=10, weight='bold', size=12)\n",
    "\n",
    "plt.title('Hours of the Day / Duration in Weekends', pad=10, weight='bold', size=12)\n",
    "\n",
    "plt.colorbar();\n"
   ]
  },
  {
   "cell_type": "markdown",
   "metadata": {},
   "source": [
    "As we imagined the most common start hour /duration during the week seems to 5 - 10 minutes ride at 8 AM and 17 PM.\n",
    "\n",
    "On the other hand, on weekends the most common trips last between 5 and 10 minutes and occur from 10 in the morning to 8 in the evening. Another difference concerning the first graph is that the concentration is lower, and you can see wide clearings fading around the most common occurrences and - curiously - a more or less clear period between 12 and 1 in the morning.\n",
    "\n",
    "It seems that some San Franciscans like to party on their bicycles!"
   ]
  },
  {
   "cell_type": "code",
   "execution_count": null,
   "metadata": {},
   "outputs": [],
   "source": []
  },
  {
   "cell_type": "markdown",
   "metadata": {},
   "source": [
    "### Talk about some of the relationships you observed in this part of the investigation. How did the feature(s) of interest vary with other features in the dataset?\n",
    "\n",
    "> We have seen that the travel patterns of our users change depending on the month of the year and on the service offered (dockless, e-bikes...). We could see as well that de duration of the ride is different for customers and subscribers.\n",
    "\n"
   ]
  },
  {
   "cell_type": "markdown",
   "metadata": {},
   "source": [
    "<a id='multivariate'></a>\n",
    "\n",
    "\n",
    "## Multivariate Exploration\n",
    "\n",
    "> We have seen the bike usage throughout the year and between customer segments, now we would like to combine this analysis and see how different customers have used Bay Wheels in 2019"
   ]
  },
  {
   "cell_type": "markdown",
   "metadata": {},
   "source": [
    "**Do ride starting times differ depending on the user type?**\n",
    "\n",
    "We already know that Non-Subscribers' rides tend to be longer than Subscribers', how does it reflect in the hour of start?"
   ]
  },
  {
   "cell_type": "code",
   "execution_count": 62,
   "metadata": {},
   "outputs": [],
   "source": [
    "\n",
    "#  Create DataFrame from Customer grouped by hour of day\n",
    "startind_customer = fordgo_clean[fordgo_clean['user_type'] == 'Customer'].set_index('start_time')\n",
    "fg_hour_of_day_customer = startind_customer.groupby(startind_customer.index.hour).count()['start_station_longitude']\n",
    "\n",
    "\n",
    "#  Create DataFrame from Subscriber grouped by hour of day\n",
    "startind_subscriber = fordgo_clean[fordgo_clean['user_type'] == 'Subscriber'].set_index('start_time')\n",
    "fg_hour_of_day_subscriber = startind_subscriber.groupby(startind_subscriber.index.hour).count()['start_station_longitude']"
   ]
  },
  {
   "cell_type": "code",
   "execution_count": 63,
   "metadata": {},
   "outputs": [
    {
     "data": {
      "image/png": "[encoded data removed]",
      "text/plain": [
       "<Figure size 1080x504 with 1 Axes>"
      ]
     },
     "metadata": {
      "needs_background": "light"
     },
     "output_type": "display_data"
    }
   ],
   "source": [
    "# Plot Journeys by Starting time\n",
    "\n",
    "plt.figure(figsize=[15,7]).tight_layout(pad=10.0)\n",
    "\n",
    "\n",
    "fg_hour_of_day_customer.plot()\n",
    "fg_hour_of_day_subscriber.plot()\n",
    "\n",
    "\n",
    "plt.title('Ride Starting Time by User Type', pad=10, weight='bold')\n",
    "\n",
    "plt.xlabel('Hour of the Day',labelpad=10, weight='bold')\n",
    "\n",
    "plt.ylabel('# of Rides', labelpad=10, weight='bold')\n",
    "\n",
    "plt.grid()\n",
    "\n",
    "plt.xticks(np.arange(0, 24, 1))\n",
    "\n",
    "plt.legend(['Customer', 'Subscriber']);"
   ]
  },
  {
   "cell_type": "markdown",
   "metadata": {},
   "source": [
    "Both user types show a similar bimodal structure with peaks around 8 AM and 17:00 PM with a plateau in the middle. The big difference is that, while Subscribers peaks are even —ranging around 240,000 rides— Customers have a lower morning peak —39,000 rides at 8 AM—, and higher values at 16, 17 and 18 PM —54,000 being the highest point at 17 PM, a 38% increase regarding the value at 8 AM—"
   ]
  },
  {
   "cell_type": "markdown",
   "metadata": {},
   "source": [
    "**How does the number of rides change throughout the year depending on the user??**\n",
    "\n"
   ]
  },
  {
   "cell_type": "code",
   "execution_count": 64,
   "metadata": {},
   "outputs": [],
   "source": [
    "# Filter rows with user type Customer, resample it by month and count frequencies\n",
    "fordgo_monthly_customer_count = fordgo_clean[fordgo_clean.user_type == 'Customer'].set_index('start_time').resample('M')['duration_min'].count() \n",
    "\n",
    "# Filter rows with user type Subscriber, resample it by month and count frequencies\n",
    "fordgo_monthly_subscriber_count = fordgo_clean[fordgo_clean.user_type == 'Subscriber'].set_index('start_time').resample('M')['duration_min'].count()"
   ]
  },
  {
   "cell_type": "code",
   "execution_count": 65,
   "metadata": {
    "scrolled": false
   },
   "outputs": [
    {
     "data": {
      "image/png": "[encoded data removed]",
      "text/plain": [
       "<Figure size 720x360 with 1 Axes>"
      ]
     },
     "metadata": {
      "needs_background": "light"
     },
     "output_type": "display_data"
    }
   ],
   "source": [
    "#Number of rides by user type throughout\n",
    "\n",
    "plt.figure(figsize=[10,5]).tight_layout(pad=20)\n",
    "\n",
    "#rides\n",
    "\n",
    "fordgo_monthly_customer_count.plot()\n",
    "fordgo_monthly_subscriber_count.plot()\n",
    "plt.title('User Type # of Rides',pad=10, weight='bold', size=12)\n",
    "plt.xlabel('Month', labelpad=10, weight='bold', size=12)\n",
    "plt.ylabel('# of Rides', labelpad=10, weight='bold', size=12)\n",
    "plt.subplots_adjust(left=0, right=1)\n",
    "plt.grid()\n",
    "plt.legend(['Customer', 'Subscriber']);"
   ]
  },
  {
   "cell_type": "markdown",
   "metadata": {},
   "source": [
    "We can see that, while Subscriber's number of rides oscillates along the year and suffers a steep fall in November-December, the Non-Subscriber segment experiments a steady increase in the total number of rides, peaking in December and almost reaching for the first time the number of rides of the Non Subscriber segment, suggesting some kind of user transfer between both groups.\n",
    "\n",
    "Another interesting fact to point out is that It seems that the segment of subscribers is much more sensitive to economic downturns than the segment of casual customers:\n",
    "\n",
    "While the former suffer significant declines in May, June and August (due to the reasons mentioned above), in the Non-Subscriber segment there is only a small decline in May, followed by a rapid recovery in June, in July there is no decline but only a slowdown in growth.\n",
    "\n"
   ]
  },
  {
   "cell_type": "markdown",
   "metadata": {},
   "source": [
    "**How does the duration by month change depending on the user segment?**\n",
    "\n",
    "We have just seen what seems to be a transfer from users from the Subscriber to the Customer segment in December, if this was true, we should see some change in the user patterns."
   ]
  },
  {
   "cell_type": "code",
   "execution_count": 66,
   "metadata": {
    "scrolled": true
   },
   "outputs": [],
   "source": [
    "# Filter rows with user type Customer, resample it by month and get mean duration\n",
    "\n",
    "fordgo_monthly_customer = fordgo_clean[fordgo_clean.user_type == 'Customer'].set_index('start_time').resample('M')['duration_min'].mean() \n",
    "\n",
    "# Filter rows with user type Subscriber, resample it by month and get mean duration\n",
    "\n",
    "fordgo_monthly_subscriber = fordgo_clean[fordgo_clean.user_type == 'Subscriber'].set_index('start_time').resample('M')['duration_min'].mean() "
   ]
  },
  {
   "cell_type": "code",
   "execution_count": 67,
   "metadata": {
    "scrolled": false
   },
   "outputs": [
    {
     "data": {
      "image/png": "[encoded data removed]",
      "text/plain": [
       "<Figure size 1080x504 with 1 Axes>"
      ]
     },
     "metadata": {
      "needs_background": "light"
     },
     "output_type": "display_data"
    }
   ],
   "source": [
    "# Plot rental duration by user type\n",
    "\n",
    "plt.figure(figsize=[15, 7]).tight_layout(pad=20)\n",
    "\n",
    "\n",
    "fordgo_monthly_customer.plot()\n",
    "fordgo_monthly_subscriber.plot()\n",
    "plt.title('User Type Rental Duration ',pad=10, weight='bold', size=12)\n",
    "plt.xlabel('Month', labelpad=10, weight='bold', size=12)\n",
    "plt.ylabel('Rental Duration', labelpad=10, weight='bold', size=12)\n",
    "plt.grid()\n",
    "plt.subplots_adjust(left=0, right=1)\n",
    "plt.legend(['Customer', 'Subscriber']);"
   ]
  },
  {
   "cell_type": "markdown",
   "metadata": {},
   "source": [
    "We can clearly see the huge drop on average time driven by bike-ride in the Customer segment is decaying since the middle of the year, but it is in December when it suffers its biggest drop, this dramatic change in use patterns strengthens our theory, that there is a transfer from Subscriber to Non-Subscriber in December.\n",
    "\n",
    "We already knew that Fordgo subscribers were the segment with the most travellers, while they were the group of travellers with the least average rental time. Now we also know that they are the group most sensitive to changes in service and that the last few months of 2019 were catastrophic for service in general.\n",
    "\n",
    "\n",
    "We do not know if what has happened in 2019 is a cyclical trend in the business or if, on the contrary, Fordgo has suffered a setback at the end of the year. What we can say is that ups and downs in the service provided by Lyft have harmed Baywheels' business potential that can be reduced with further planning for its future."
   ]
  },
  {
   "cell_type": "markdown",
   "metadata": {},
   "source": [
    "**Are there differences in bike usage depending on the user type AND the day of the week?**\n",
    "\n",
    "As we saw above there is a clear difference between weekend and mid-week use. It also seems that Subscribers and Non-Subscribers ride our bikes at different times.\n",
    "\n",
    "If we segment the data into 4 subgroups, how will they be different?"
   ]
  },
  {
   "cell_type": "code",
   "execution_count": 68,
   "metadata": {
    "scrolled": false
   },
   "outputs": [
    {
     "data": {
      "image/png": "[encoded data removed]",
      "text/plain": [
       "<Figure size 720x720 with 4 Axes>"
      ]
     },
     "metadata": {
      "needs_background": "light"
     },
     "output_type": "display_data"
    }
   ],
   "source": [
    "# Create a facetgrid with user_type in row and business_weekday in column.\n",
    "\n",
    "\n",
    "\n",
    "g = sb.FacetGrid(data = fordgo_clean, col = 'business_weekday', row = 'user_type', height = 5, margin_titles = True);\n",
    "\n",
    "g.map(plt.hist, 'start_hour');\n",
    "\n",
    "\n"
   ]
  },
  {
   "cell_type": "markdown",
   "metadata": {},
   "source": [
    "It seems that both client segments share similar behaviour patterns both on weekdays - most often occurring around two rush hours - and on weekends with a near-normal distribution centred at 3pm.\n",
    "\n",
    "The differences between the two groups appear to be in proportions, with subscribers appearing to travel overwhelmingly on weekdays while non-subscribers appear to travel equally every day. Let's check this out:"
   ]
  },
  {
   "cell_type": "code",
   "execution_count": 69,
   "metadata": {},
   "outputs": [
    {
     "name": "stdout",
     "output_type": "stream",
     "text": [
      "In the Subscriber segment 85% of travels happen in workdays while only 72% of customers trips happen in workdays\n"
     ]
    }
   ],
   "source": [
    "# Count total number of customer and subscriber trips as well as customer and subscriber trips on the weekend.\n",
    "\n",
    "total_subscriber = len(fordgo_clean[ (fordgo_clean.user_type == 'Subscriber') ])\n",
    "subscriber_workday = len(fordgo_clean[(fordgo_clean.business_weekday == 'Workday') & (fordgo_clean.user_type == 'Subscriber') ])\n",
    "\n",
    "total_customer = len(fordgo_clean[ (fordgo_clean.user_type == 'Customer') ])\n",
    "customer_workday =len(fordgo_clean[(fordgo_clean.business_weekday == 'Workday') & (fordgo_clean.user_type == 'Customer') ])\n",
    "\n",
    "print('In the Subscriber segment {}'.format(round((subscriber_workday /total_subscriber)* 100))+ '% of travels happen in workdays' + ' while only {}'.format(round((customer_workday/total_customer) * 100)) + '% of customers trips happen in workdays')"
   ]
  },
  {
   "cell_type": "markdown",
   "metadata": {},
   "source": [
    "The number of trips by subscribers is disproportionate on weekdays while customers seem to travel the same on weekdays as on weekends (72% is as well the number of workdays in the week)"
   ]
  },
  {
   "cell_type": "code",
   "execution_count": 70,
   "metadata": {},
   "outputs": [
    {
     "name": "stdout",
     "output_type": "stream",
     "text": [
      "<class 'pandas.core.frame.DataFrame'>\n",
      "Int64Index: 2506982 entries, 0 to 2506982\n",
      "Data columns (total 17 columns):\n",
      "bike_id                    int64\n",
      "duration_sec               int64\n",
      "end_station_id             float64\n",
      "end_station_latitude       float64\n",
      "end_station_longitude      float64\n",
      "end_station_name           object\n",
      "end_time                   datetime64[ns]\n",
      "start_station_id           float64\n",
      "start_station_latitude     float64\n",
      "start_station_longitude    float64\n",
      "start_station_name         object\n",
      "start_time                 datetime64[ns]\n",
      "user_type                  category\n",
      "duration_min               float64\n",
      "duration_period            category\n",
      "business_weekday           category\n",
      "start_hour                 int64\n",
      "dtypes: category(3), datetime64[ns](2), float64(7), int64(3), object(2)\n",
      "memory usage: 294.1+ MB\n"
     ]
    }
   ],
   "source": [
    "fordgo_clean.info()\n"
   ]
  },
  {
   "cell_type": "code",
   "execution_count": 71,
   "metadata": {},
   "outputs": [],
   "source": [
    "fordgo_clean.to_csv('Fordgo_exploration.csv', index=False)"
   ]
  },
  {
   "cell_type": "code",
   "execution_count": 72,
   "metadata": {},
   "outputs": [
    {
     "name": "stdout",
     "output_type": "stream",
     "text": [
      "<class 'pandas.core.frame.DataFrame'>\n",
      "Int64Index: 2506982 entries, 0 to 2506982\n",
      "Data columns (total 17 columns):\n",
      "bike_id                    int64\n",
      "duration_sec               int64\n",
      "end_station_id             float64\n",
      "end_station_latitude       float64\n",
      "end_station_longitude      float64\n",
      "end_station_name           object\n",
      "end_time                   datetime64[ns]\n",
      "start_station_id           float64\n",
      "start_station_latitude     float64\n",
      "start_station_longitude    float64\n",
      "start_station_name         object\n",
      "start_time                 datetime64[ns]\n",
      "user_type                  category\n",
      "duration_min               float64\n",
      "duration_period            category\n",
      "business_weekday           category\n",
      "start_hour                 int64\n",
      "dtypes: category(3), datetime64[ns](2), float64(7), int64(3), object(2)\n",
      "memory usage: 294.1+ MB\n"
     ]
    }
   ],
   "source": [
    "fordgo_clean.info()"
   ]
  }
 ],
 "metadata": {
  "kernelspec": {
   "display_name": "Python 3",
   "language": "python",
   "name": "python3"
  },
  "language_info": {
   "codemirror_mode": {
    "name": "ipython",
    "version": 3
   },
   "file_extension": ".py",
   "mimetype": "text/x-python",
   "name": "python",
   "nbconvert_exporter": "python",
   "pygments_lexer": "ipython3",
   "version": "3.7.5"
  }
 },
 "nbformat": 4,
 "nbformat_minor": 2
}
